{
 "cells": [
  {
   "cell_type": "code",
   "execution_count": 1,
   "id": "ae2313f1-20c1-40ab-9379-dddca42e87d9",
   "metadata": {
    "tags": []
   },
   "outputs": [],
   "source": [
    "from Models import *"
   ]
  },
  {
   "cell_type": "markdown",
   "id": "7f9286e3-ce18-4787-8585-dcffaebb4fdd",
   "metadata": {},
   "source": [
    "### FLOPs & Params"
   ]
  },
  {
   "cell_type": "code",
   "execution_count": 2,
   "id": "4dcfb534-285d-4a3a-8bc0-0c94889aac2d",
   "metadata": {},
   "outputs": [
    {
     "name": "stdout",
     "output_type": "stream",
     "text": [
      "[INFO] Register zero_ops() for <class 'torch.nn.modules.container.Sequential'>.\n",
      "[INFO] Register count_convNd() for <class 'torch.nn.modules.conv.Conv2d'>.\n",
      "[INFO] Register count_convNd() for <class 'torch.nn.modules.conv.Conv1d'>.\n",
      "[INFO] Register count_linear() for <class 'torch.nn.modules.linear.Linear'>.\n",
      "[INFO] Register zero_ops() for <class 'torch.nn.modules.activation.ReLU'>.\n",
      "[INFO] Register count_normalization() for <class 'torch.nn.modules.batchnorm.BatchNorm1d'>.\n",
      "[INFO] Register count_adap_avgpool() for <class 'torch.nn.modules.pooling.AdaptiveAvgPool1d'>.\n",
      "[INFO] Register count_softmax() for <class 'torch.nn.modules.activation.Softmax'>.\n",
      "3.478G 8.509M\n"
     ]
    }
   ],
   "source": [
    "import torch, numpy, random\n",
    "from thop import profile, clever_format\n",
    " \n",
    "device = torch.device('cpu')\n",
    "model = MFA_TDNN(512)\n",
    "model.to(device)\n",
    "\n",
    "myinput = torch.zeros((1, 81920)).to(device)\n",
    "\n",
    "flops, params = profile(model.to(device), inputs=(myinput,))\n",
    "flops, params = clever_format([flops, params], \"%.3f\")\n",
    "print(flops, params)"
   ]
  },
  {
   "cell_type": "markdown",
   "id": "b34bb183-b5bf-4a06-a3e8-167443aaae38",
   "metadata": {},
   "source": [
    "### RTF & Params"
   ]
  },
  {
   "cell_type": "code",
   "execution_count": null,
   "id": "769df297-cf60-4a4d-b986-b713cc130bff",
   "metadata": {},
   "outputs": [],
   "source": [
    "for i in range(6, 7):\n",
    "    print(\"num_blocks is {}\".format(i))\n",
    "    model = ECAPA_TDNN(512)\n",
    "\n",
    "    import time\n",
    "    model = model.eval()\n",
    "    time1 = time.time()\n",
    "    with torch.no_grad():\n",
    "        for i in range(100):\n",
    "            data = torch.randn(1, 81920)       \n",
    "            embedding = model(data) \n",
    "    time2 = time.time()\n",
    "    val = (time2 - time1)/100\n",
    "    rtf = val/ 5\n",
    "\n",
    "        \n",
    "    total = sum([param.nelement() for param in model.parameters()])\n",
    "    print(\"total param: {:.2f}M\".format(total/1e6))\n",
    "    print(\"RTF {:.4f}\".format(rtf))"
   ]
  }
 ],
 "metadata": {
  "kernelspec": {
   "display_name": "Python 3 (ipykernel)",
   "language": "python",
   "name": "python3"
  },
  "language_info": {
   "codemirror_mode": {
    "name": "ipython",
    "version": 3
   },
   "file_extension": ".py",
   "mimetype": "text/x-python",
   "name": "python",
   "nbconvert_exporter": "python",
   "pygments_lexer": "ipython3",
   "version": "3.9.13"
  }
 },
 "nbformat": 4,
 "nbformat_minor": 5
}
