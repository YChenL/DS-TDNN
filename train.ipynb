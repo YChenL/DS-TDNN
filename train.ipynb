{
 "cells": [
  {
   "cell_type": "code",
   "execution_count": null,
   "id": "bff6b09d-0a99-4d07-85a6-3786899990c2",
   "metadata": {},
   "outputs": [],
   "source": [
    "#判断是否安装了cuda\n",
    "import torch\n",
    "print(torch.cuda.is_available())  #返回True则说明已经安装了cuda\n",
    "#判断是否安装了cuDNN\n",
    "from torch.backends import  cudnn\n",
    "print(cudnn.is_available())  #返回True则说明已经安装了cuDNN"
   ]
  },
  {
   "cell_type": "code",
   "execution_count": 1,
   "id": "908207a9-538f-48a3-89a7-326e7abd232e",
   "metadata": {},
   "outputs": [],
   "source": [
    "'''\n",
    "This is the main code of the \n",
    "ECAPATDNN project, to define the parameters and build the construction\n",
    "'''\n",
    "\n",
    "import argparse, glob, os, torch, warnings, time\n",
    "from tools import *\n",
    "from dataLoader import train_loader\n",
    "# from DatasetLoader import train_dataset_loader\n",
    "from ECAPAModel import ECAPAModel"
   ]
  },
  {
   "cell_type": "code",
   "execution_count": 2,
   "id": "46daf24c-bd61-4268-8a26-3a12ae87bc68",
   "metadata": {},
   "outputs": [],
   "source": [
    "parser = argparse.ArgumentParser(description = \"ECAPA_trainer\")\n",
    "## Training Settings\n",
    "parser.add_argument('--num_frames', type=int,   default=200,     help='Duration of the input segments, eg: 200 for 2 second')\n",
    "parser.add_argument('--max_frames', type=int,   default=200,     help='Duration of the input segments, eg: 200 for 2 second')\n",
    "parser.add_argument('--max_epoch',  type=int,   default=100,      help='Maximum number of epochs')\n",
    "parser.add_argument('--batch_size', type=int,   default=256,     help='Batch size')\n",
    "parser.add_argument('--n_cpu',      type=int,   default=16,      help='Number of loader threads')\n",
    "# parser.add_argument('--augment',    type=bool,  default=True,   help='Augment input')\n",
    "parser.add_argument('--test_step',  type=int,   default=1,       help='Test and save every [test_step] epochs')\n",
    "parser.add_argument('--lr',         type=float, default=0.001,   help='Learning rate')\n",
    "parser.add_argument(\"--lr_decay\",   type=float, default=0.97,    help='Learning rate decay every [test_step] epochs')\n",
    "\n",
    "## Training and evaluation path/lists, save path\n",
    "parser.add_argument('--train_list',     type=str,   default=\"/root/autodl-tmp/Vox2/train_list.txt\",        help='Train list')\n",
    "parser.add_argument('--train_path',     type=str,   default=\"/root/autodl-tmp/Vox2/train\",                 help='Absolute path to the train set')\n",
    "parser.add_argument('--eval_list',      type=str,   default=\"/root/autodl-tmp/Vox1/test_list.txt\",         help='Evaluation list')\n",
    "parser.add_argument('--eval_path',      type=str,   default=\"/root/autodl-tmp/Vox1/test\",                  help='Absolute path to the test set')\n",
    "parser.add_argument('--musan_path',     type=str,   default=\"/root/autodl-tmp/musan\",                      help='Absolute path to the MUSAN set')\n",
    "parser.add_argument('--rir_path',       type=str,   default=\"/root/autodl-tmp/RIRS_NOISES/simulated_rirs\", help='Absolute path to the RIR set')\n",
    "parser.add_argument('--save_path',      type=str,   default=\"exps/Dual_TDNN_SDGF1536\",                             help='Path to save the score.txt and models')\n",
    "parser.add_argument('--initial_model',  type=str,   default=\"exps/Dual_TDNN_SDGF1536/model/model_0075.model\",      help='Path of the initial_model') \n",
    "\n",
    "## Training and evaluation path/lists, save path\n",
    "# parser.add_argument('--train_list', type=str,   default=\"D:/Dataset/Vox2/train_list.txt\",          help='The path of the training list, https://www.robots.ox.ac.uk/~vgg/data/voxceleb/meta/train_list.txt')\n",
    "# parser.add_argument('--train_path', type=str,   default=\"D:/Dataset/Vox2/train\",                   help='The path of the training data, eg:\"/data08/VoxCeleb2/train/wav\" in my case')\n",
    "# parser.add_argument('--eval_list',  type=str,   default=\"D:/Dataset/Vox1/test_list.txt\",           help='The path of the evaluation list, veri_test2.txt comes from https://www.robots.ox.ac.uk/~vgg/data/voxceleb/meta/veri_test2.txt')\n",
    "# parser.add_argument('--eval_path',  type=str,   default=\"D:/Dataset/Vox1/test\",                    help='The path of the evaluation data, eg:\"/data08/VoxCeleb1/test/wav\" in my case')\n",
    "# parser.add_argument('--musan_path', type=str,   default=\"D:/Dataset/musan\",                        help='The path to the MUSAN set, eg:\"/data08/Others/musan_split\" in my case')\n",
    "# parser.add_argument('--rir_path',   type=str,   default=\"D:/Dataset/RIRS_NOISES/simulated_rirs\",   help='The path to the RIR set, eg:\"/data08/Others/RIRS_NOISES/simulated_rirs\" in my case');\n",
    "# parser.add_argument('--save_path',  type=str,   default=\"exps/exp_dam128\",                           help='Path to save the score.txt and models')\n",
    "# parser.add_argument('--initial_model',  type=str,   default=\"exps/exp_dam128/model/model_0026.model\",    help='Path of the initial_model') # exps/pretrain.model\n",
    "\n",
    "## Model and Loss settings\n",
    "parser.add_argument('--C',          type=int,   default=1536,   help='Channel size for the speaker encoder')\n",
    "parser.add_argument('--mixedprec',  type=bool,  default=False,  help='Only do evaluation')\n",
    "parser.add_argument('--m',          type=float, default=0.2,    help='Loss margin in AAM softmax')\n",
    "parser.add_argument('--s',          type=float, default=30,     help='Loss scale in AAM softmax')\n",
    "# parser.add_argument('--k',       type=int,   default=17,     help='subcenter nums in DAM softmax')\n",
    "parser.add_argument('--n_class',    type=int,   default=5994,   help='Number of speakers')\n",
    "\n",
    "## Command\n",
    "# parser.add_argument('--eval',       dest='eval', action='store_false', help='Only do evaluation')\n",
    "parser.add_argument('--eval',       type=bool,  default=False,  help='Only do evaluation')\n",
    "\n",
    "\n",
    "## Initialization\n",
    "warnings.simplefilter(\"ignore\")\n",
    "torch.multiprocessing.set_sharing_strategy('file_system')\n",
    "args = parser.parse_args([])\n",
    "args = init_args(args)"
   ]
  },
  {
   "cell_type": "code",
   "execution_count": 3,
   "id": "640a55b4-2648-44fd-a862-8fba2de790fd",
   "metadata": {},
   "outputs": [
    {
     "data": {
      "text/plain": [
       "False"
      ]
     },
     "execution_count": 3,
     "metadata": {},
     "output_type": "execute_result"
    }
   ],
   "source": [
    "args.eval"
   ]
  },
  {
   "cell_type": "code",
   "execution_count": 4,
   "id": "5cdf3d78-7906-4987-ad21-b204400fc50f",
   "metadata": {},
   "outputs": [
    {
     "name": "stdout",
     "output_type": "stream",
     "text": [
      "03-13 15:38:13 Model para number = 19.91\n"
     ]
    }
   ],
   "source": [
    "## Define the data loader\n",
    "trainloader = train_loader(**vars(args))\n",
    "trainLoader = torch.utils.data.DataLoader(trainloader, batch_size = args.batch_size, shuffle = True, \\\n",
    "                                          pin_memory=True, num_workers = args.n_cpu, drop_last = True, prefetch_factor = 10)\n",
    "\n",
    "# Search for the exist models\n",
    "# modelfiles = glob.glob('%s/model_0*.model'%args.model_save_path)\n",
    "# modelfiles.sort()\n",
    "\n",
    "# #Only do evaluation, the initial_model is necessary\n",
    "# if args.eval == True:\n",
    "# \ts = ECAPAModel(**vars(args))\n",
    "# \tprint(\"Model %s loaded from previous state!\"%args.initial_model)\n",
    "# \ts.load_parameters(args.initial_model)\n",
    "# \tEER, minDCF = s.eval_network(eval_list = args.eval_list, eval_path = args.eval_path)\n",
    "# \tprint(\"EER %2.2f%%, minDCF %.4f%%\"%(EER, minDCF))\n",
    "# \tquit()\n",
    "\n",
    "# If initial_model is exist, system will train from the initial_model\n",
    "# if args.initial_model != \"\":\n",
    "# \tprint(\"Model %s loaded from previous state!\"%args.initial_model)\n",
    "# \ts = ECAPAModel(**vars(args))\n",
    "# \ts.load_parameters(args.initial_model)\n",
    "# \tepoch = 1\n",
    "\n",
    "# ## Otherwise, system will try to start from the saved model&epoch\n",
    "# elif len(modelfiles) >= 1:\n",
    "# \tprint(\"Model %s loaded from previous state!\"%modelfiles[-1])\n",
    "# \tepoch = int(os.path.splitext(os.path.basename(modelfiles[-1]))[0][6:]) + 1\n",
    "# \ts = ECAPAModel(**vars(args))\n",
    "# \ts.load_parameters(modelfiles[-1])\n",
    "## Otherwise, system will train from scratch\n",
    "# else:\n",
    "\n",
    "# \tepoch = 1\n",
    "# \ts = ECAPAModel(**vars(args))\n",
    "    \n",
    "    \n",
    "epoch = 1\n",
    "s = ECAPAModel(**vars(args))\n",
    "\n",
    "EERs = []\n",
    "score_file = open(args.score_save_path, \"a+\")"
   ]
  },
  {
   "cell_type": "code",
   "execution_count": null,
   "id": "f22be9eb-a8c3-4d6a-96df-d37d846cc14d",
   "metadata": {
    "tags": []
   },
   "outputs": [
    {
     "name": "stderr",
     "output_type": "stream",
     "text": [
      "03-13 15:39:45 [ 1] Lr: 0.001000, Training: 1.50%,  Loss: 15.69016, ACC: 0.00% \r"
     ]
    }
   ],
   "source": [
    "while(1):\n",
    "\t## Training for one epoch\n",
    "\tloss, lr, acc = s.train_network(epoch = epoch, loader = trainLoader)\n",
    "\n",
    "\t## Evaluation every [test_step] epochs\n",
    "\tif epoch % args.test_step == 0:\n",
    "\t\ts.save_parameters(args.model_save_path + \"/model_%04d.model\"%epoch)\n",
    "\t\tEERs.append(s.eval_network(eval_list = args.eval_list, eval_path = args.eval_path)[0])\n",
    "\t\tprint(time.strftime(\"%Y-%m-%d %H:%M:%S\"), \"%d epoch, ACC %2.2f%%, EER %2.2f%%, bestEER %2.2f%%\"%(epoch, acc, EERs[-1], min(EERs)))\n",
    "\t\tscore_file.write(\"%d epoch, LR %f, LOSS %f, ACC %2.2f%%, EER %2.2f%%, bestEER %2.2f%%\\n\"%(epoch, lr, loss, acc, EERs[-1], min(EERs)))\n",
    "\t\tscore_file.flush()\n",
    "\n",
    "\tif epoch >= args.max_epoch:\n",
    "\t\tquit()\n",
    "\n",
    "\tepoch += 1"
   ]
  },
  {
   "cell_type": "code",
   "execution_count": null,
   "id": "6ad3d7aa-9aef-4394-b76f-4128d4d2e563",
   "metadata": {},
   "outputs": [],
   "source": [
    "a"
   ]
  },
  {
   "cell_type": "code",
   "execution_count": null,
   "id": "4d569600-e18d-4bb9-8a33-ce819e342e43",
   "metadata": {},
   "outputs": [
    {
     "name": "stderr",
     "output_type": "stream",
     "text": [
      "02-14 21:22:10 [ 1] Lr: 0.001000, Training: 100.00%,  Loss: 9.24405, ACC: 3.57% \r"
     ]
    },
    {
     "name": "stdout",
     "output_type": "stream",
     "text": [
      "\n"
     ]
    },
    {
     "name": "stderr",
     "output_type": "stream",
     "text": [
      "100%|██████████| 4366/4366 [00:44<00:00, 97.74it/s] \n"
     ]
    },
    {
     "name": "stdout",
     "output_type": "stream",
     "text": [
      "2023-02-14 21:22:59 1 epoch, ACC 3.57%, EER 6.73%, bestEER 6.73%\n"
     ]
    },
    {
     "name": "stderr",
     "output_type": "stream",
     "text": [
      "02-14 21:29:30 [ 2] Lr: 0.000970, Training: 7.67%,  Loss: 6.80873, ACC: 8.94% \r"
     ]
    }
   ],
   "source": [
    "while(1):\n",
    "\t## Training for one epoch\n",
    "\tloss, lr, acc = s.train_network(epoch = epoch, loader = trainLoader)\n",
    "\n",
    "\t## Evaluation every [test_step] epochs\n",
    "\tif epoch % args.test_step == 0:\n",
    "\t\ts.save_parameters(args.model_save_path + \"/model_%04d.model\"%epoch)\n",
    "\t\tEERs.append(s.eval_network(eval_list = args.eval_list, eval_path = args.eval_path)[0])\n",
    "\t\tprint(time.strftime(\"%Y-%m-%d %H:%M:%S\"), \"%d epoch, ACC %2.2f%%, EER %2.2f%%, bestEER %2.2f%%\"%(epoch, acc, EERs[-1], min(EERs)))\n",
    "\t\tscore_file.write(\"%d epoch, LR %f, LOSS %f, ACC %2.2f%%, EER %2.2f%%, bestEER %2.2f%%\\n\"%(epoch, lr, loss, acc, EERs[-1], min(EERs)))\n",
    "\t\tscore_file.flush()\n",
    "\n",
    "\tif epoch >= args.max_epoch:\n",
    "\t\tquit()\n",
    "\n",
    "\tepoch += 1"
   ]
  },
  {
   "cell_type": "code",
   "execution_count": null,
   "id": "93b8d4b9-e965-4cc6-9f55-f7381df336aa",
   "metadata": {},
   "outputs": [
    {
     "name": "stderr",
     "output_type": "stream",
     "text": [
      "02-14 00:13:39 [ 1] Lr: 0.001000, Training: 100.00%,  Loss: 9.28824, ACC: 3.59% \r"
     ]
    },
    {
     "name": "stdout",
     "output_type": "stream",
     "text": [
      "\n"
     ]
    },
    {
     "name": "stderr",
     "output_type": "stream",
     "text": [
      "100%|██████████| 4366/4366 [01:12<00:00, 60.33it/s]\n"
     ]
    },
    {
     "name": "stdout",
     "output_type": "stream",
     "text": [
      "2023-02-14 00:14:56 1 epoch, ACC 3.59%, EER 7.63%, bestEER 7.63%\n"
     ]
    },
    {
     "name": "stderr",
     "output_type": "stream",
     "text": [
      "02-14 01:40:33 [ 2] Lr: 0.000970, Training: 100.00%,  Loss: 6.27125, ACC: 12.15% \r"
     ]
    },
    {
     "name": "stdout",
     "output_type": "stream",
     "text": [
      "\n"
     ]
    },
    {
     "name": "stderr",
     "output_type": "stream",
     "text": [
      "100%|██████████| 4366/4366 [01:21<00:00, 53.29it/s]\n"
     ]
    },
    {
     "name": "stdout",
     "output_type": "stream",
     "text": [
      "2023-02-14 01:41:59 2 epoch, ACC 12.15%, EER 5.65%, bestEER 5.65%\n"
     ]
    },
    {
     "name": "stderr",
     "output_type": "stream",
     "text": [
      "02-14 03:01:20 [ 3] Lr: 0.000941, Training: 100.00%,  Loss: 5.52789, ACC: 17.31% \r"
     ]
    },
    {
     "name": "stdout",
     "output_type": "stream",
     "text": [
      "\n"
     ]
    },
    {
     "name": "stderr",
     "output_type": "stream",
     "text": [
      "100%|██████████| 4366/4366 [01:19<00:00, 55.23it/s]\n"
     ]
    },
    {
     "name": "stdout",
     "output_type": "stream",
     "text": [
      "2023-02-14 03:02:43 3 epoch, ACC 17.31%, EER 4.85%, bestEER 4.85%\n"
     ]
    },
    {
     "name": "stderr",
     "output_type": "stream",
     "text": [
      "02-14 04:25:17 [ 4] Lr: 0.000913, Training: 100.00%,  Loss: 5.10501, ACC: 21.00% \r"
     ]
    },
    {
     "name": "stdout",
     "output_type": "stream",
     "text": [
      "\n"
     ]
    },
    {
     "name": "stderr",
     "output_type": "stream",
     "text": [
      "100%|██████████| 4366/4366 [01:19<00:00, 55.05it/s]\n"
     ]
    },
    {
     "name": "stdout",
     "output_type": "stream",
     "text": [
      "2023-02-14 04:26:41 4 epoch, ACC 21.00%, EER 4.13%, bestEER 4.13%\n"
     ]
    },
    {
     "name": "stderr",
     "output_type": "stream",
     "text": [
      "02-14 05:46:58 [ 5] Lr: 0.000885, Training: 100.00%,  Loss: 4.82850, ACC: 23.68% \r"
     ]
    },
    {
     "name": "stdout",
     "output_type": "stream",
     "text": [
      "\n"
     ]
    },
    {
     "name": "stderr",
     "output_type": "stream",
     "text": [
      "100%|██████████| 4366/4366 [01:12<00:00, 60.53it/s]\n"
     ]
    },
    {
     "name": "stdout",
     "output_type": "stream",
     "text": [
      "2023-02-14 05:48:14 5 epoch, ACC 23.68%, EER 3.83%, bestEER 3.83%\n"
     ]
    },
    {
     "name": "stderr",
     "output_type": "stream",
     "text": [
      "02-14 07:11:11 [ 6] Lr: 0.000859, Training: 100.00%,  Loss: 4.62495, ACC: 25.76% \r"
     ]
    },
    {
     "name": "stdout",
     "output_type": "stream",
     "text": [
      "\n"
     ]
    },
    {
     "name": "stderr",
     "output_type": "stream",
     "text": [
      "100%|██████████| 4366/4366 [00:59<00:00, 73.24it/s]\n"
     ]
    },
    {
     "name": "stdout",
     "output_type": "stream",
     "text": [
      "2023-02-14 07:12:14 6 epoch, ACC 25.76%, EER 3.54%, bestEER 3.54%\n"
     ]
    },
    {
     "name": "stderr",
     "output_type": "stream",
     "text": [
      "02-14 08:34:57 [ 7] Lr: 0.000833, Training: 100.00%,  Loss: 4.46595, ACC: 27.46% \r"
     ]
    },
    {
     "name": "stdout",
     "output_type": "stream",
     "text": [
      "\n"
     ]
    },
    {
     "name": "stderr",
     "output_type": "stream",
     "text": [
      "100%|██████████| 4366/4366 [01:12<00:00, 59.91it/s]\n"
     ]
    },
    {
     "name": "stdout",
     "output_type": "stream",
     "text": [
      "2023-02-14 08:36:14 7 epoch, ACC 27.46%, EER 3.31%, bestEER 3.31%\n"
     ]
    },
    {
     "name": "stderr",
     "output_type": "stream",
     "text": [
      "02-14 09:59:29 [ 8] Lr: 0.000808, Training: 100.00%,  Loss: 4.33406, ACC: 28.98% \r"
     ]
    },
    {
     "name": "stdout",
     "output_type": "stream",
     "text": [
      "\n"
     ]
    },
    {
     "name": "stderr",
     "output_type": "stream",
     "text": [
      "100%|██████████| 4366/4366 [01:19<00:00, 54.67it/s]\n"
     ]
    },
    {
     "name": "stdout",
     "output_type": "stream",
     "text": [
      "2023-02-14 10:00:53 8 epoch, ACC 28.98%, EER 3.67%, bestEER 3.31%\n"
     ]
    },
    {
     "name": "stderr",
     "output_type": "stream",
     "text": [
      "02-14 11:22:55 [ 9] Lr: 0.000784, Training: 100.00%,  Loss: 4.22343, ACC: 30.25% \r"
     ]
    },
    {
     "name": "stdout",
     "output_type": "stream",
     "text": [
      "\n"
     ]
    },
    {
     "name": "stderr",
     "output_type": "stream",
     "text": [
      "100%|██████████| 4366/4366 [00:59<00:00, 72.88it/s]\n"
     ]
    },
    {
     "name": "stdout",
     "output_type": "stream",
     "text": [
      "2023-02-14 11:23:59 9 epoch, ACC 30.25%, EER 3.40%, bestEER 3.31%\n"
     ]
    },
    {
     "name": "stderr",
     "output_type": "stream",
     "text": [
      "02-14 12:45:27 [10] Lr: 0.000760, Training: 100.00%,  Loss: 4.13645, ACC: 31.30% \r"
     ]
    },
    {
     "name": "stdout",
     "output_type": "stream",
     "text": [
      "\n"
     ]
    },
    {
     "name": "stderr",
     "output_type": "stream",
     "text": [
      "100%|██████████| 4366/4366 [01:17<00:00, 56.18it/s]\n"
     ]
    },
    {
     "name": "stdout",
     "output_type": "stream",
     "text": [
      "2023-02-14 12:46:49 10 epoch, ACC 31.30%, EER 3.09%, bestEER 3.09%\n"
     ]
    },
    {
     "name": "stderr",
     "output_type": "stream",
     "text": [
      "02-14 14:11:04 [11] Lr: 0.000737, Training: 100.00%,  Loss: 4.05672, ACC: 32.25% \r"
     ]
    },
    {
     "name": "stdout",
     "output_type": "stream",
     "text": [
      "\n"
     ]
    },
    {
     "name": "stderr",
     "output_type": "stream",
     "text": [
      "100%|██████████| 4366/4366 [01:18<00:00, 55.81it/s]\n"
     ]
    },
    {
     "name": "stdout",
     "output_type": "stream",
     "text": [
      "2023-02-14 14:12:26 11 epoch, ACC 32.25%, EER 3.12%, bestEER 3.09%\n"
     ]
    },
    {
     "name": "stderr",
     "output_type": "stream",
     "text": [
      "02-14 15:34:31 [12] Lr: 0.000715, Training: 100.00%,  Loss: 3.98528, ACC: 33.16% \r"
     ]
    },
    {
     "name": "stdout",
     "output_type": "stream",
     "text": [
      "\n"
     ]
    },
    {
     "name": "stderr",
     "output_type": "stream",
     "text": [
      "100%|██████████| 4366/4366 [00:59<00:00, 73.82it/s]\n"
     ]
    },
    {
     "name": "stdout",
     "output_type": "stream",
     "text": [
      "2023-02-14 15:35:34 12 epoch, ACC 33.16%, EER 2.94%, bestEER 2.94%\n"
     ]
    },
    {
     "name": "stderr",
     "output_type": "stream",
     "text": [
      "02-14 16:57:30 [13] Lr: 0.000694, Training: 100.00%,  Loss: 3.92176, ACC: 33.93% \r"
     ]
    },
    {
     "name": "stdout",
     "output_type": "stream",
     "text": [
      "\n"
     ]
    },
    {
     "name": "stderr",
     "output_type": "stream",
     "text": [
      "100%|██████████| 4366/4366 [01:09<00:00, 63.00it/s]\n"
     ]
    },
    {
     "name": "stdout",
     "output_type": "stream",
     "text": [
      "2023-02-14 16:58:43 13 epoch, ACC 33.93%, EER 3.08%, bestEER 2.94%\n"
     ]
    },
    {
     "name": "stderr",
     "output_type": "stream",
     "text": [
      "02-14 18:01:48 [14] Lr: 0.000673, Training: 75.94%,  Loss: 3.85771, ACC: 34.69% \r"
     ]
    }
   ],
   "source": [
    "while(1):\n",
    "\t## Training for one epoch\n",
    "\tloss, lr, acc = s.train_network(epoch = epoch, loader = trainLoader)\n",
    "\n",
    "\t## Evaluation every [test_step] epochs\n",
    "\tif epoch % args.test_step == 0:\n",
    "\t\ts.save_parameters(args.model_save_path + \"/model_%04d.model\"%epoch)\n",
    "\t\tEERs.append(s.eval_network(eval_list = args.eval_list, eval_path = args.eval_path)[0])\n",
    "\t\tprint(time.strftime(\"%Y-%m-%d %H:%M:%S\"), \"%d epoch, ACC %2.2f%%, EER %2.2f%%, bestEER %2.2f%%\"%(epoch, acc, EERs[-1], min(EERs)))\n",
    "\t\tscore_file.write(\"%d epoch, LR %f, LOSS %f, ACC %2.2f%%, EER %2.2f%%, bestEER %2.2f%%\\n\"%(epoch, lr, loss, acc, EERs[-1], min(EERs)))\n",
    "\t\tscore_file.flush()\n",
    "\n",
    "\tif epoch >= args.max_epoch:\n",
    "\t\tquit()\n",
    "\n",
    "\tepoch += 1"
   ]
  },
  {
   "cell_type": "code",
   "execution_count": null,
   "id": "1223869a-7d16-466f-99be-be552ab530dd",
   "metadata": {},
   "outputs": [
    {
     "name": "stderr",
     "output_type": "stream",
     "text": [
      "02-13 13:23:25 [ 1] Lr: 0.001000, Training: 100.00%,  Loss: 8.95220, ACC: 4.03% \r"
     ]
    },
    {
     "name": "stdout",
     "output_type": "stream",
     "text": [
      "\n"
     ]
    },
    {
     "name": "stderr",
     "output_type": "stream",
     "text": [
      "100%|██████████| 4366/4366 [01:12<00:00, 59.85it/s]\n"
     ]
    },
    {
     "name": "stdout",
     "output_type": "stream",
     "text": [
      "2023-02-13 13:24:42 1 epoch, ACC 4.03%, EER 7.38%, bestEER 7.38%\n"
     ]
    },
    {
     "name": "stderr",
     "output_type": "stream",
     "text": [
      "02-13 14:38:49 [ 2] Lr: 0.000970, Training: 100.00%,  Loss: 6.20666, ACC: 12.12% \r"
     ]
    },
    {
     "name": "stdout",
     "output_type": "stream",
     "text": [
      "\n"
     ]
    },
    {
     "name": "stderr",
     "output_type": "stream",
     "text": [
      "100%|██████████| 4366/4366 [01:03<00:00, 68.61it/s]\n"
     ]
    },
    {
     "name": "stdout",
     "output_type": "stream",
     "text": [
      "2023-02-13 14:39:56 2 epoch, ACC 12.12%, EER 5.73%, bestEER 5.73%\n"
     ]
    },
    {
     "name": "stderr",
     "output_type": "stream",
     "text": [
      "02-13 15:56:35 [ 3] Lr: 0.000941, Training: 100.00%,  Loss: 5.52147, ACC: 16.80% \r"
     ]
    },
    {
     "name": "stdout",
     "output_type": "stream",
     "text": [
      "\n"
     ]
    },
    {
     "name": "stderr",
     "output_type": "stream",
     "text": [
      "100%|██████████| 4366/4366 [01:06<00:00, 65.84it/s]\n"
     ]
    },
    {
     "name": "stdout",
     "output_type": "stream",
     "text": [
      "2023-02-13 15:57:46 3 epoch, ACC 16.80%, EER 5.09%, bestEER 5.09%\n"
     ]
    },
    {
     "name": "stderr",
     "output_type": "stream",
     "text": [
      "02-13 16:01:29 [ 4] Lr: 0.000913, Training: 4.78%,  Loss: 5.17291, ACC: 19.02% \r"
     ]
    }
   ],
   "source": [
    "while(1):\n",
    "\t## Training for one epoch\n",
    "\tloss, lr, acc = s.train_network(epoch = epoch, loader = trainLoader)\n",
    "\n",
    "\t## Evaluation every [test_step] epochs\n",
    "\tif epoch % args.test_step == 0:\n",
    "\t\ts.save_parameters(args.model_save_path + \"/model_%04d.model\"%epoch)\n",
    "\t\tEERs.append(s.eval_network(eval_list = args.eval_list, eval_path = args.eval_path)[0])\n",
    "\t\tprint(time.strftime(\"%Y-%m-%d %H:%M:%S\"), \"%d epoch, ACC %2.2f%%, EER %2.2f%%, bestEER %2.2f%%\"%(epoch, acc, EERs[-1], min(EERs)))\n",
    "\t\tscore_file.write(\"%d epoch, LR %f, LOSS %f, ACC %2.2f%%, EER %2.2f%%, bestEER %2.2f%%\\n\"%(epoch, lr, loss, acc, EERs[-1], min(EERs)))\n",
    "\t\tscore_file.flush()\n",
    "\n",
    "\tif epoch >= args.max_epoch:\n",
    "\t\tquit()\n",
    "\n",
    "\tepoch += 1"
   ]
  },
  {
   "cell_type": "code",
   "execution_count": null,
   "id": "c5c2e382-70ee-4c07-9801-2c036546cdf9",
   "metadata": {
    "tags": []
   },
   "outputs": [
    {
     "name": "stderr",
     "output_type": "stream",
     "text": [
      "02-12 19:02:17 [ 1] Lr: 0.001000, Training: 100.00%,  Loss: 9.26373, ACC: 3.54% \r"
     ]
    },
    {
     "name": "stdout",
     "output_type": "stream",
     "text": [
      "\n"
     ]
    },
    {
     "name": "stderr",
     "output_type": "stream",
     "text": [
      "100%|██████████| 4366/4366 [01:53<00:00, 38.62it/s]\n"
     ]
    },
    {
     "name": "stdout",
     "output_type": "stream",
     "text": [
      "2023-02-12 19:04:15 1 epoch, ACC 3.54%, EER 8.23%, bestEER 8.23%\n"
     ]
    },
    {
     "name": "stderr",
     "output_type": "stream",
     "text": [
      "02-12 20:27:47 [ 2] Lr: 0.000970, Training: 100.00%,  Loss: 6.39881, ACC: 11.18% \r"
     ]
    },
    {
     "name": "stdout",
     "output_type": "stream",
     "text": [
      "\n"
     ]
    },
    {
     "name": "stderr",
     "output_type": "stream",
     "text": [
      "100%|██████████| 4366/4366 [01:44<00:00, 41.78it/s]\n"
     ]
    },
    {
     "name": "stdout",
     "output_type": "stream",
     "text": [
      "2023-02-12 20:29:36 2 epoch, ACC 11.18%, EER 6.18%, bestEER 6.18%\n"
     ]
    },
    {
     "name": "stderr",
     "output_type": "stream",
     "text": [
      "02-12 21:59:51 [ 3] Lr: 0.000941, Training: 100.00%,  Loss: 5.71542, ACC: 15.61% \r"
     ]
    },
    {
     "name": "stdout",
     "output_type": "stream",
     "text": [
      "\n"
     ]
    },
    {
     "name": "stderr",
     "output_type": "stream",
     "text": [
      "100%|██████████| 4366/4366 [01:47<00:00, 40.51it/s]\n"
     ]
    },
    {
     "name": "stdout",
     "output_type": "stream",
     "text": [
      "2023-02-12 22:01:43 3 epoch, ACC 15.61%, EER 4.86%, bestEER 4.86%\n"
     ]
    },
    {
     "name": "stderr",
     "output_type": "stream",
     "text": [
      "02-12 23:34:33 [ 4] Lr: 0.000913, Training: 100.00%,  Loss: 5.34126, ACC: 18.54% \r"
     ]
    },
    {
     "name": "stdout",
     "output_type": "stream",
     "text": [
      "\n"
     ]
    },
    {
     "name": "stderr",
     "output_type": "stream",
     "text": [
      "100%|██████████| 4366/4366 [01:47<00:00, 40.49it/s]\n"
     ]
    },
    {
     "name": "stdout",
     "output_type": "stream",
     "text": [
      "2023-02-12 23:36:26 4 epoch, ACC 18.54%, EER 4.25%, bestEER 4.25%\n"
     ]
    },
    {
     "name": "stderr",
     "output_type": "stream",
     "text": [
      "02-13 01:11:06 [ 5] Lr: 0.000885, Training: 100.00%,  Loss: 5.09700, ACC: 20.71% \r"
     ]
    },
    {
     "name": "stdout",
     "output_type": "stream",
     "text": [
      "\n"
     ]
    },
    {
     "name": "stderr",
     "output_type": "stream",
     "text": [
      "100%|██████████| 4366/4366 [01:48<00:00, 40.09it/s]\n"
     ]
    },
    {
     "name": "stdout",
     "output_type": "stream",
     "text": [
      "2023-02-13 01:13:00 5 epoch, ACC 20.71%, EER 4.10%, bestEER 4.10%\n"
     ]
    },
    {
     "name": "stderr",
     "output_type": "stream",
     "text": [
      "02-13 02:43:30 [ 6] Lr: 0.000859, Training: 100.00%,  Loss: 4.92345, ACC: 22.36% \r"
     ]
    },
    {
     "name": "stdout",
     "output_type": "stream",
     "text": [
      "\n"
     ]
    },
    {
     "name": "stderr",
     "output_type": "stream",
     "text": [
      "100%|██████████| 4366/4366 [01:48<00:00, 40.22it/s]\n"
     ]
    },
    {
     "name": "stdout",
     "output_type": "stream",
     "text": [
      "2023-02-13 02:45:23 6 epoch, ACC 22.36%, EER 4.04%, bestEER 4.04%\n"
     ]
    },
    {
     "name": "stderr",
     "output_type": "stream",
     "text": [
      "02-13 04:23:34 [ 7] Lr: 0.000833, Training: 100.00%,  Loss: 4.78615, ACC: 23.68% \r"
     ]
    },
    {
     "name": "stdout",
     "output_type": "stream",
     "text": [
      "\n"
     ]
    },
    {
     "name": "stderr",
     "output_type": "stream",
     "text": [
      "100%|██████████| 4366/4366 [01:48<00:00, 40.10it/s]\n"
     ]
    },
    {
     "name": "stdout",
     "output_type": "stream",
     "text": [
      "2023-02-13 04:25:27 7 epoch, ACC 23.68%, EER 4.52%, bestEER 4.04%\n"
     ]
    },
    {
     "name": "stderr",
     "output_type": "stream",
     "text": [
      "02-13 05:58:54 [ 8] Lr: 0.000808, Training: 100.00%,  Loss: 4.68047, ACC: 24.73% \r"
     ]
    },
    {
     "name": "stdout",
     "output_type": "stream",
     "text": [
      "\n"
     ]
    },
    {
     "name": "stderr",
     "output_type": "stream",
     "text": [
      "100%|██████████| 4366/4366 [01:44<00:00, 41.69it/s]\n"
     ]
    },
    {
     "name": "stdout",
     "output_type": "stream",
     "text": [
      "2023-02-13 06:00:43 8 epoch, ACC 24.73%, EER 3.85%, bestEER 3.85%\n"
     ]
    },
    {
     "name": "stderr",
     "output_type": "stream",
     "text": [
      "02-13 07:30:55 [ 9] Lr: 0.000784, Training: 100.00%,  Loss: 4.59125, ACC: 25.66% \r"
     ]
    },
    {
     "name": "stdout",
     "output_type": "stream",
     "text": [
      "\n"
     ]
    },
    {
     "name": "stderr",
     "output_type": "stream",
     "text": [
      "100%|██████████| 4366/4366 [01:48<00:00, 40.29it/s]\n"
     ]
    },
    {
     "name": "stdout",
     "output_type": "stream",
     "text": [
      "2023-02-13 07:32:48 9 epoch, ACC 25.66%, EER 3.98%, bestEER 3.85%\n"
     ]
    },
    {
     "name": "stderr",
     "output_type": "stream",
     "text": [
      "02-13 09:08:48 [10] Lr: 0.000760, Training: 100.00%,  Loss: 4.51194, ACC: 26.49% \r"
     ]
    },
    {
     "name": "stdout",
     "output_type": "stream",
     "text": [
      "\n"
     ]
    },
    {
     "name": "stderr",
     "output_type": "stream",
     "text": [
      "100%|██████████| 4366/4366 [01:45<00:00, 41.51it/s]\n"
     ]
    },
    {
     "name": "stdout",
     "output_type": "stream",
     "text": [
      "2023-02-13 09:10:37 10 epoch, ACC 26.49%, EER 3.89%, bestEER 3.85%\n"
     ]
    },
    {
     "name": "stderr",
     "output_type": "stream",
     "text": [
      "02-13 10:15:36 [11] Lr: 0.000737, Training: 72.24%,  Loss: 4.44716, ACC: 27.21% \r"
     ]
    }
   ],
   "source": [
    "while(1):\n",
    "\t## Training for one epoch\n",
    "\tloss, lr, acc = s.train_network(epoch = epoch, loader = trainLoader)\n",
    "\n",
    "\t## Evaluation every [test_step] epochs\n",
    "\tif epoch % args.test_step == 0:\n",
    "\t\ts.save_parameters(args.model_save_path + \"/model_%04d.model\"%epoch)\n",
    "\t\tEERs.append(s.eval_network(eval_list = args.eval_list, eval_path = args.eval_path)[0])\n",
    "\t\tprint(time.strftime(\"%Y-%m-%d %H:%M:%S\"), \"%d epoch, ACC %2.2f%%, EER %2.2f%%, bestEER %2.2f%%\"%(epoch, acc, EERs[-1], min(EERs)))\n",
    "\t\tscore_file.write(\"%d epoch, LR %f, LOSS %f, ACC %2.2f%%, EER %2.2f%%, bestEER %2.2f%%\\n\"%(epoch, lr, loss, acc, EERs[-1], min(EERs)))\n",
    "\t\tscore_file.flush()\n",
    "\n",
    "\tif epoch >= args.max_epoch:\n",
    "\t\tquit()\n",
    "\n",
    "\tepoch += 1"
   ]
  },
  {
   "cell_type": "code",
   "execution_count": null,
   "id": "a9dd30ae-f439-48af-8f9d-e28760d956e5",
   "metadata": {},
   "outputs": [],
   "source": [
    "1"
   ]
  },
  {
   "cell_type": "code",
   "execution_count": 4,
   "id": "3898cd3e-f57f-4e42-b960-bea1c318cace",
   "metadata": {
    "collapsed": true,
    "jupyter": {
     "outputs_hidden": true
    },
    "tags": []
   },
   "outputs": [
    {
     "ename": "OutOfMemoryError",
     "evalue": "CUDA out of memory. Tried to allocate 808.00 MiB (GPU 0; 23.69 GiB total capacity; 22.00 GiB already allocated; 522.56 MiB free; 22.86 GiB reserved in total by PyTorch) If reserved memory is >> allocated memory try setting max_split_size_mb to avoid fragmentation.  See documentation for Memory Management and PYTORCH_CUDA_ALLOC_CONF",
     "output_type": "error",
     "traceback": [
      "\u001b[0;31m---------------------------------------------------------------------------\u001b[0m",
      "\u001b[0;31mOutOfMemoryError\u001b[0m                          Traceback (most recent call last)",
      "Input \u001b[0;32mIn [4]\u001b[0m, in \u001b[0;36m<cell line: 3>\u001b[0;34m()\u001b[0m\n\u001b[1;32m      1\u001b[0m \u001b[38;5;28;01mwhile\u001b[39;00m(\u001b[38;5;241m1\u001b[39m):\n\u001b[1;32m      2\u001b[0m \t\u001b[38;5;66;03m## Training for one epoch\u001b[39;00m\n\u001b[0;32m----> 3\u001b[0m \tloss, lr, acc \u001b[38;5;241m=\u001b[39m \u001b[43ms\u001b[49m\u001b[38;5;241;43m.\u001b[39;49m\u001b[43mtrain_network\u001b[49m\u001b[43m(\u001b[49m\u001b[43mepoch\u001b[49m\u001b[43m \u001b[49m\u001b[38;5;241;43m=\u001b[39;49m\u001b[43m \u001b[49m\u001b[43mepoch\u001b[49m\u001b[43m,\u001b[49m\u001b[43m \u001b[49m\u001b[43mloader\u001b[49m\u001b[43m \u001b[49m\u001b[38;5;241;43m=\u001b[39;49m\u001b[43m \u001b[49m\u001b[43mtrainLoader\u001b[49m\u001b[43m)\u001b[49m\n\u001b[1;32m      5\u001b[0m \t\u001b[38;5;66;03m## Evaluation every [test_step] epochs\u001b[39;00m\n\u001b[1;32m      6\u001b[0m \t\u001b[38;5;28;01mif\u001b[39;00m epoch \u001b[38;5;241m%\u001b[39m args\u001b[38;5;241m.\u001b[39mtest_step \u001b[38;5;241m==\u001b[39m \u001b[38;5;241m0\u001b[39m:\n",
      "File \u001b[0;32m~/ECAPA-TDNN/ECAPAModel.py:48\u001b[0m, in \u001b[0;36mECAPAModel.train_network\u001b[0;34m(self, epoch, loader)\u001b[0m\n\u001b[1;32m     46\u001b[0m \t\u001b[38;5;28mself\u001b[39m\u001b[38;5;241m.\u001b[39mscaler\u001b[38;5;241m.\u001b[39mupdate()\n\u001b[1;32m     47\u001b[0m \u001b[38;5;28;01melse\u001b[39;00m:\n\u001b[0;32m---> 48\u001b[0m \tspeaker_embedding \u001b[38;5;241m=\u001b[39m \u001b[38;5;28;43mself\u001b[39;49m\u001b[38;5;241;43m.\u001b[39;49m\u001b[43mspeaker_encoder\u001b[49m\u001b[38;5;241;43m.\u001b[39;49m\u001b[43mforward\u001b[49m\u001b[43m(\u001b[49m\u001b[43mdata\u001b[49m\u001b[38;5;241;43m.\u001b[39;49m\u001b[43mcuda\u001b[49m\u001b[43m(\u001b[49m\u001b[43m)\u001b[49m\u001b[43m,\u001b[49m\u001b[43m \u001b[49m\u001b[43maug\u001b[49m\u001b[43m \u001b[49m\u001b[38;5;241;43m=\u001b[39;49m\u001b[43m \u001b[49m\u001b[38;5;28;43;01mTrue\u001b[39;49;00m\u001b[43m)\u001b[49m\n\u001b[1;32m     49\u001b[0m \tnloss, prec       \u001b[38;5;241m=\u001b[39m \u001b[38;5;28mself\u001b[39m\u001b[38;5;241m.\u001b[39mspeaker_loss\u001b[38;5;241m.\u001b[39mforward(speaker_embedding, labels)\t\t\t           \n\u001b[1;32m     50\u001b[0m \tnloss\u001b[38;5;241m.\u001b[39mbackward()\n",
      "File \u001b[0;32m~/ECAPA-TDNN/model2.py:277\u001b[0m, in \u001b[0;36mHor_TDNN.forward\u001b[0;34m(self, x, aug)\u001b[0m\n\u001b[1;32m    275\u001b[0m x1 \u001b[38;5;241m=\u001b[39m \u001b[38;5;28mself\u001b[39m\u001b[38;5;241m.\u001b[39mlayer1(x)\n\u001b[1;32m    276\u001b[0m x2 \u001b[38;5;241m=\u001b[39m \u001b[38;5;28mself\u001b[39m\u001b[38;5;241m.\u001b[39mlayer2(x\u001b[38;5;241m+\u001b[39mx1)\n\u001b[0;32m--> 277\u001b[0m x3 \u001b[38;5;241m=\u001b[39m \u001b[38;5;28;43mself\u001b[39;49m\u001b[38;5;241;43m.\u001b[39;49m\u001b[43mlayer3\u001b[49m\u001b[43m(\u001b[49m\u001b[43mx\u001b[49m\u001b[38;5;241;43m+\u001b[39;49m\u001b[43mx1\u001b[49m\u001b[38;5;241;43m+\u001b[39;49m\u001b[43mx2\u001b[49m\u001b[43m)\u001b[49m\n\u001b[1;32m    279\u001b[0m x \u001b[38;5;241m=\u001b[39m \u001b[38;5;28mself\u001b[39m\u001b[38;5;241m.\u001b[39mlayer4(torch\u001b[38;5;241m.\u001b[39mcat((x1,x2,x3),dim\u001b[38;5;241m=\u001b[39m\u001b[38;5;241m1\u001b[39m))\n\u001b[1;32m    280\u001b[0m x \u001b[38;5;241m=\u001b[39m \u001b[38;5;28mself\u001b[39m\u001b[38;5;241m.\u001b[39mrelu(x)\n",
      "File \u001b[0;32m~/miniconda3/lib/python3.8/site-packages/torch/nn/modules/module.py:1190\u001b[0m, in \u001b[0;36mModule._call_impl\u001b[0;34m(self, *input, **kwargs)\u001b[0m\n\u001b[1;32m   1186\u001b[0m \u001b[38;5;66;03m# If we don't have any hooks, we want to skip the rest of the logic in\u001b[39;00m\n\u001b[1;32m   1187\u001b[0m \u001b[38;5;66;03m# this function, and just call forward.\u001b[39;00m\n\u001b[1;32m   1188\u001b[0m \u001b[38;5;28;01mif\u001b[39;00m \u001b[38;5;129;01mnot\u001b[39;00m (\u001b[38;5;28mself\u001b[39m\u001b[38;5;241m.\u001b[39m_backward_hooks \u001b[38;5;129;01mor\u001b[39;00m \u001b[38;5;28mself\u001b[39m\u001b[38;5;241m.\u001b[39m_forward_hooks \u001b[38;5;129;01mor\u001b[39;00m \u001b[38;5;28mself\u001b[39m\u001b[38;5;241m.\u001b[39m_forward_pre_hooks \u001b[38;5;129;01mor\u001b[39;00m _global_backward_hooks\n\u001b[1;32m   1189\u001b[0m         \u001b[38;5;129;01mor\u001b[39;00m _global_forward_hooks \u001b[38;5;129;01mor\u001b[39;00m _global_forward_pre_hooks):\n\u001b[0;32m-> 1190\u001b[0m     \u001b[38;5;28;01mreturn\u001b[39;00m \u001b[43mforward_call\u001b[49m\u001b[43m(\u001b[49m\u001b[38;5;241;43m*\u001b[39;49m\u001b[38;5;28;43minput\u001b[39;49m\u001b[43m,\u001b[49m\u001b[43m \u001b[49m\u001b[38;5;241;43m*\u001b[39;49m\u001b[38;5;241;43m*\u001b[39;49m\u001b[43mkwargs\u001b[49m\u001b[43m)\u001b[49m\n\u001b[1;32m   1191\u001b[0m \u001b[38;5;66;03m# Do not call functions when jit is used\u001b[39;00m\n\u001b[1;32m   1192\u001b[0m full_backward_hooks, non_full_backward_hooks \u001b[38;5;241m=\u001b[39m [], []\n",
      "File \u001b[0;32m~/ECAPA-TDNN/model2.py:155\u001b[0m, in \u001b[0;36mBlock.forward\u001b[0;34m(self, x)\u001b[0m\n\u001b[1;32m    153\u001b[0m x \u001b[38;5;241m=\u001b[39m x\u001b[38;5;241m.\u001b[39mpermute(\u001b[38;5;241m0\u001b[39m, \u001b[38;5;241m2\u001b[39m, \u001b[38;5;241m1\u001b[39m) \u001b[38;5;66;03m# (B, C, W) -> (B, W, C)\u001b[39;00m\n\u001b[1;32m    154\u001b[0m x \u001b[38;5;241m=\u001b[39m \u001b[38;5;28mself\u001b[39m\u001b[38;5;241m.\u001b[39mnorm2(x)  \n\u001b[0;32m--> 155\u001b[0m x \u001b[38;5;241m=\u001b[39m \u001b[38;5;28;43mself\u001b[39;49m\u001b[38;5;241;43m.\u001b[39;49m\u001b[43mpwconv1\u001b[49m\u001b[43m(\u001b[49m\u001b[43mx\u001b[49m\u001b[43m)\u001b[49m\n\u001b[1;32m    156\u001b[0m x \u001b[38;5;241m=\u001b[39m \u001b[38;5;28mself\u001b[39m\u001b[38;5;241m.\u001b[39mact(x)\n\u001b[1;32m    157\u001b[0m x \u001b[38;5;241m=\u001b[39m \u001b[38;5;28mself\u001b[39m\u001b[38;5;241m.\u001b[39mpwconv2(x)\n",
      "File \u001b[0;32m~/miniconda3/lib/python3.8/site-packages/torch/nn/modules/module.py:1190\u001b[0m, in \u001b[0;36mModule._call_impl\u001b[0;34m(self, *input, **kwargs)\u001b[0m\n\u001b[1;32m   1186\u001b[0m \u001b[38;5;66;03m# If we don't have any hooks, we want to skip the rest of the logic in\u001b[39;00m\n\u001b[1;32m   1187\u001b[0m \u001b[38;5;66;03m# this function, and just call forward.\u001b[39;00m\n\u001b[1;32m   1188\u001b[0m \u001b[38;5;28;01mif\u001b[39;00m \u001b[38;5;129;01mnot\u001b[39;00m (\u001b[38;5;28mself\u001b[39m\u001b[38;5;241m.\u001b[39m_backward_hooks \u001b[38;5;129;01mor\u001b[39;00m \u001b[38;5;28mself\u001b[39m\u001b[38;5;241m.\u001b[39m_forward_hooks \u001b[38;5;129;01mor\u001b[39;00m \u001b[38;5;28mself\u001b[39m\u001b[38;5;241m.\u001b[39m_forward_pre_hooks \u001b[38;5;129;01mor\u001b[39;00m _global_backward_hooks\n\u001b[1;32m   1189\u001b[0m         \u001b[38;5;129;01mor\u001b[39;00m _global_forward_hooks \u001b[38;5;129;01mor\u001b[39;00m _global_forward_pre_hooks):\n\u001b[0;32m-> 1190\u001b[0m     \u001b[38;5;28;01mreturn\u001b[39;00m \u001b[43mforward_call\u001b[49m\u001b[43m(\u001b[49m\u001b[38;5;241;43m*\u001b[39;49m\u001b[38;5;28;43minput\u001b[39;49m\u001b[43m,\u001b[49m\u001b[43m \u001b[49m\u001b[38;5;241;43m*\u001b[39;49m\u001b[38;5;241;43m*\u001b[39;49m\u001b[43mkwargs\u001b[49m\u001b[43m)\u001b[49m\n\u001b[1;32m   1191\u001b[0m \u001b[38;5;66;03m# Do not call functions when jit is used\u001b[39;00m\n\u001b[1;32m   1192\u001b[0m full_backward_hooks, non_full_backward_hooks \u001b[38;5;241m=\u001b[39m [], []\n",
      "File \u001b[0;32m~/miniconda3/lib/python3.8/site-packages/torch/nn/modules/linear.py:114\u001b[0m, in \u001b[0;36mLinear.forward\u001b[0;34m(self, input)\u001b[0m\n\u001b[1;32m    113\u001b[0m \u001b[38;5;28;01mdef\u001b[39;00m \u001b[38;5;21mforward\u001b[39m(\u001b[38;5;28mself\u001b[39m, \u001b[38;5;28minput\u001b[39m: Tensor) \u001b[38;5;241m-\u001b[39m\u001b[38;5;241m>\u001b[39m Tensor:\n\u001b[0;32m--> 114\u001b[0m     \u001b[38;5;28;01mreturn\u001b[39;00m \u001b[43mF\u001b[49m\u001b[38;5;241;43m.\u001b[39;49m\u001b[43mlinear\u001b[49m\u001b[43m(\u001b[49m\u001b[38;5;28;43minput\u001b[39;49m\u001b[43m,\u001b[49m\u001b[43m \u001b[49m\u001b[38;5;28;43mself\u001b[39;49m\u001b[38;5;241;43m.\u001b[39;49m\u001b[43mweight\u001b[49m\u001b[43m,\u001b[49m\u001b[43m \u001b[49m\u001b[38;5;28;43mself\u001b[39;49m\u001b[38;5;241;43m.\u001b[39;49m\u001b[43mbias\u001b[49m\u001b[43m)\u001b[49m\n",
      "\u001b[0;31mOutOfMemoryError\u001b[0m: CUDA out of memory. Tried to allocate 808.00 MiB (GPU 0; 23.69 GiB total capacity; 22.00 GiB already allocated; 522.56 MiB free; 22.86 GiB reserved in total by PyTorch) If reserved memory is >> allocated memory try setting max_split_size_mb to avoid fragmentation.  See documentation for Memory Management and PYTORCH_CUDA_ALLOC_CONF"
     ]
    }
   ],
   "source": [
    "while(1):\n",
    "\t## Training for one epoch\n",
    "\tloss, lr, acc = s.train_network(epoch = epoch, loader = trainLoader)\n",
    "\n",
    "\t## Evaluation every [test_step] epochs\n",
    "\tif epoch % args.test_step == 0:\n",
    "\t\ts.save_parameters(args.model_save_path + \"/model_%04d.model\"%epoch)\n",
    "\t\tEERs.append(s.eval_network(eval_list = args.eval_list, eval_path = args.eval_path)[0])\n",
    "\t\tprint(time.strftime(\"%Y-%m-%d %H:%M:%S\"), \"%d epoch, ACC %2.2f%%, EER %2.2f%%, bestEER %2.2f%%\"%(epoch, acc, EERs[-1], min(EERs)))\n",
    "\t\tscore_file.write(\"%d epoch, LR %f, LOSS %f, ACC %2.2f%%, EER %2.2f%%, bestEER %2.2f%%\\n\"%(epoch, lr, loss, acc, EERs[-1], min(EERs)))\n",
    "\t\tscore_file.flush()\n",
    "\n",
    "\tif epoch >= args.max_epoch:\n",
    "\t\tquit()\n",
    "\n",
    "\tepoch += 1"
   ]
  },
  {
   "cell_type": "code",
   "execution_count": null,
   "id": "9d4c21df-2af0-4f70-b250-a08715e8ae61",
   "metadata": {},
   "outputs": [
    {
     "name": "stderr",
     "output_type": "stream",
     "text": [
      "  9%|▉         | 384/4366 [00:08<01:17, 51.60it/s]"
     ]
    }
   ],
   "source": [
    "EER, minDCF = s.eval_network(args.eval_list, args.eval_path)"
   ]
  },
  {
   "cell_type": "code",
   "execution_count": 6,
   "id": "7bd1e868-adb9-4697-9d3d-56abdb947b41",
   "metadata": {},
   "outputs": [
    {
     "data": {
      "text/plain": [
       "37.30584741891275"
      ]
     },
     "execution_count": 6,
     "metadata": {},
     "output_type": "execute_result"
    }
   ],
   "source": [
    "EER"
   ]
  },
  {
   "cell_type": "code",
   "execution_count": 7,
   "id": "2128f592-f99c-4b96-b3c0-87a2d01c7ff6",
   "metadata": {},
   "outputs": [
    {
     "data": {
      "text/plain": [
       "0.9818410232983107"
      ]
     },
     "execution_count": 7,
     "metadata": {},
     "output_type": "execute_result"
    }
   ],
   "source": [
    "minDCF"
   ]
  },
  {
   "cell_type": "code",
   "execution_count": 4,
   "id": "e97f71db-9e19-49b9-b90d-bae405a91be1",
   "metadata": {},
   "outputs": [
    {
     "name": "stderr",
     "output_type": "stream",
     "text": [
      "100%|██████████████████████████████████████████████████████████████████████████████| 4356/4356 [01:34<00:00, 46.00it/s]\n"
     ]
    }
   ],
   "source": [
    "EER, minDCF = s.eval_network(args.eval_list, args.eval_path)"
   ]
  },
  {
   "cell_type": "code",
   "execution_count": 5,
   "id": "d7e5d97d-a189-43cc-bbc4-3223c44c8236",
   "metadata": {},
   "outputs": [
    {
     "name": "stdout",
     "output_type": "stream",
     "text": [
      "1.0391859709893916 0.083946741718986\n"
     ]
    }
   ],
   "source": [
    "print(EER, minDCF)"
   ]
  },
  {
   "cell_type": "code",
   "execution_count": 8,
   "id": "f0e76a04-11a9-43fa-8d6e-ddeb87afaf0c",
   "metadata": {},
   "outputs": [
    {
     "name": "stderr",
     "output_type": "stream",
     "text": [
      "100%|██████████████████████████████████████████████████████████████████████████████| 4356/4356 [01:19<00:00, 54.91it/s]\n"
     ]
    },
    {
     "name": "stdout",
     "output_type": "stream",
     "text": [
      "1.3260445983979217 0.09368911019701155\n"
     ]
    }
   ],
   "source": [
    "EER, minDCF = s.eval_network(args.eval_list, args.eval_path)\n",
    "print(EER, minDCF)"
   ]
  },
  {
   "cell_type": "code",
   "execution_count": null,
   "id": "25d09a8d-5908-474a-812a-3b14dcf8ef43",
   "metadata": {},
   "outputs": [
    {
     "name": "stderr",
     "output_type": "stream",
     "text": [
      "01-08 15:43:01 [ 1] Lr: 0.001000, Training: 100.00%,  Loss: 10.54210, ACC: 0.85% \r"
     ]
    },
    {
     "name": "stdout",
     "output_type": "stream",
     "text": [
      "\n"
     ]
    },
    {
     "name": "stderr",
     "output_type": "stream",
     "text": [
      "100%|██████████████████████████████████████████████████████████████████████████████| 4356/4356 [01:38<00:00, 44.16it/s]\n"
     ]
    },
    {
     "name": "stdout",
     "output_type": "stream",
     "text": [
      "2023-01-08 15:44:46 1 epoch, ACC 0.85%, EER 24.94%, bestEER 24.94%\n"
     ]
    },
    {
     "name": "stderr",
     "output_type": "stream",
     "text": [
      "01-08 20:11:14 [ 2] Lr: 0.000970, Training: 100.00%,  Loss: 8.17052, ACC: 4.30% \r"
     ]
    },
    {
     "name": "stdout",
     "output_type": "stream",
     "text": [
      "\n"
     ]
    },
    {
     "name": "stderr",
     "output_type": "stream",
     "text": [
      "100%|██████████████████████████████████████████████████████████████████████████████| 4356/4356 [01:34<00:00, 46.17it/s]\n"
     ]
    },
    {
     "name": "stdout",
     "output_type": "stream",
     "text": [
      "2023-01-08 20:12:55 2 epoch, ACC 4.30%, EER 22.81%, bestEER 22.81%\n"
     ]
    },
    {
     "name": "stderr",
     "output_type": "stream",
     "text": [
      "01-09 00:40:50 [ 3] Lr: 0.000941, Training: 100.00%,  Loss: 7.44321, ACC: 7.17% \r"
     ]
    },
    {
     "name": "stdout",
     "output_type": "stream",
     "text": [
      "\n"
     ]
    },
    {
     "name": "stderr",
     "output_type": "stream",
     "text": [
      "100%|██████████████████████████████████████████████████████████████████████████████| 4356/4356 [01:34<00:00, 46.07it/s]\n"
     ]
    },
    {
     "name": "stdout",
     "output_type": "stream",
     "text": [
      "2023-01-09 00:42:32 3 epoch, ACC 7.17%, EER 24.08%, bestEER 22.81%\n"
     ]
    },
    {
     "name": "stderr",
     "output_type": "stream",
     "text": [
      "01-09 05:09:18 [ 4] Lr: 0.000913, Training: 100.00%,  Loss: 6.99374, ACC: 9.42% \r"
     ]
    },
    {
     "name": "stdout",
     "output_type": "stream",
     "text": [
      "\n"
     ]
    },
    {
     "name": "stderr",
     "output_type": "stream",
     "text": [
      "100%|██████████████████████████████████████████████████████████████████████████████| 4356/4356 [01:34<00:00, 46.28it/s]\n"
     ]
    },
    {
     "name": "stdout",
     "output_type": "stream",
     "text": [
      "2023-01-09 05:10:59 4 epoch, ACC 9.42%, EER 23.64%, bestEER 22.81%\n"
     ]
    },
    {
     "name": "stderr",
     "output_type": "stream",
     "text": [
      "01-09 09:37:13 [ 5] Lr: 0.000885, Training: 100.00%,  Loss: 6.67140, ACC: 11.29% \r"
     ]
    },
    {
     "name": "stdout",
     "output_type": "stream",
     "text": [
      "\n"
     ]
    },
    {
     "name": "stderr",
     "output_type": "stream",
     "text": [
      "100%|██████████████████████████████████████████████████████████████████████████████| 4356/4356 [01:35<00:00, 45.73it/s]\n"
     ]
    },
    {
     "name": "stdout",
     "output_type": "stream",
     "text": [
      "2023-01-09 09:38:55 5 epoch, ACC 11.29%, EER 23.42%, bestEER 22.81%\n"
     ]
    },
    {
     "name": "stderr",
     "output_type": "stream",
     "text": [
      "01-09 09:44:51 [ 6] Lr: 0.000859, Training: 2.05%,  Loss: 6.44458, ACC: 12.44% \r"
     ]
    }
   ],
   "source": [
    "# Train DAM\n",
    "while(1):\n",
    "\t## Training for one epoch\n",
    "\tloss, lr, acc = s.train_network(epoch = epoch, loader = trainLoader)\n",
    "\n",
    "\t## Evaluation every [test_step] epochs\n",
    "\tif epoch % args.test_step == 0:\n",
    "\t\ts.save_parameters(args.model_save_path + \"/model_%04d.model\"%epoch)\n",
    "\t\tEERs.append(s.eval_network(eval_list = args.eval_list, eval_path = args.eval_path)[0])\n",
    "\t\tprint(time.strftime(\"%Y-%m-%d %H:%M:%S\"), \"%d epoch, ACC %2.2f%%, EER %2.2f%%, bestEER %2.2f%%\"%(epoch, acc, EERs[-1], min(EERs)))\n",
    "\t\tscore_file.write(\"%d epoch, LR %f, LOSS %f, ACC %2.2f%%, EER %2.2f%%, bestEER %2.2f%%\\n\"%(epoch, lr, loss, acc, EERs[-1], min(EERs)))\n",
    "\t\tscore_file.flush()\n",
    "\n",
    "\tif epoch >= args.max_epoch:\n",
    "\t\tquit()\n",
    "\n",
    "\tepoch += 1"
   ]
  },
  {
   "cell_type": "code",
   "execution_count": null,
   "id": "729315f8-7e46-4d02-9895-aea85636e1f6",
   "metadata": {},
   "outputs": [
    {
     "name": "stderr",
     "output_type": "stream",
     "text": [
      "01-09 13:08:38 [ 1] Lr: 0.001000, Training: 100.00%,  Loss: 9.57244, ACC: 3.16% \r"
     ]
    },
    {
     "name": "stdout",
     "output_type": "stream",
     "text": [
      "\n"
     ]
    },
    {
     "name": "stderr",
     "output_type": "stream",
     "text": [
      "100%|██████████████████████████████████████████████████████████████████████████████| 4356/4356 [01:32<00:00, 46.90it/s]\n"
     ]
    },
    {
     "name": "stdout",
     "output_type": "stream",
     "text": [
      "2023-01-09 13:10:18 1 epoch, ACC 3.16%, EER 6.53%, bestEER 6.53%\n"
     ]
    },
    {
     "name": "stderr",
     "output_type": "stream",
     "text": [
      "01-09 16:30:13 [ 2] Lr: 0.000970, Training: 100.00%,  Loss: 5.95670, ACC: 14.21% \r"
     ]
    },
    {
     "name": "stdout",
     "output_type": "stream",
     "text": [
      "\n"
     ]
    },
    {
     "name": "stderr",
     "output_type": "stream",
     "text": [
      "100%|██████████████████████████████████████████████████████████████████████████████| 4356/4356 [01:33<00:00, 46.53it/s]\n"
     ]
    },
    {
     "name": "stdout",
     "output_type": "stream",
     "text": [
      "2023-01-09 16:31:54 2 epoch, ACC 14.21%, EER 4.43%, bestEER 4.43%\n"
     ]
    },
    {
     "name": "stderr",
     "output_type": "stream",
     "text": [
      "01-09 16:59:43 [ 3] Lr: 0.000941, Training: 13.55%,  Loss: 5.22540, ACC: 19.52% \r"
     ]
    }
   ],
   "source": [
    "# Train AAM\n",
    "while(1):\n",
    "\t## Training for one epoch\n",
    "\tloss, lr, acc = s.train_network(epoch = epoch, loader = trainLoader)\n",
    "\n",
    "\t## Evaluation every [test_step] epochs\n",
    "\tif epoch % args.test_step == 0:\n",
    "\t\ts.save_parameters(args.model_save_path + \"/model_%04d.model\"%epoch)\n",
    "\t\tEERs.append(s.eval_network(eval_list = args.eval_list, eval_path = args.eval_path)[0])\n",
    "\t\tprint(time.strftime(\"%Y-%m-%d %H:%M:%S\"), \"%d epoch, ACC %2.2f%%, EER %2.2f%%, bestEER %2.2f%%\"%(epoch, acc, EERs[-1], min(EERs)))\n",
    "\t\tscore_file.write(\"%d epoch, LR %f, LOSS %f, ACC %2.2f%%, EER %2.2f%%, bestEER %2.2f%%\\n\"%(epoch, lr, loss, acc, EERs[-1], min(EERs)))\n",
    "\t\tscore_file.flush()\n",
    "\n",
    "\tif epoch >= args.max_epoch:\n",
    "\t\tquit()\n",
    "\n",
    "\tepoch += 1"
   ]
  },
  {
   "cell_type": "code",
   "execution_count": null,
   "id": "79e910b8-f64b-4f70-92ea-ba8cb0c4cdbe",
   "metadata": {
    "collapsed": true,
    "jupyter": {
     "outputs_hidden": true,
     "source_hidden": true
    },
    "tags": []
   },
   "outputs": [
    {
     "name": "stderr",
     "output_type": "stream",
     "text": [
      "01-09 20:21:28 [ 1] Lr: 0.001000, Training: 100.00%,  Loss: 11.03942, ACC: 0.04% \r"
     ]
    },
    {
     "name": "stdout",
     "output_type": "stream",
     "text": [
      "\n"
     ]
    },
    {
     "name": "stderr",
     "output_type": "stream",
     "text": [
      "100%|██████████████████████████████████████████████████████████████████████████████| 4356/4356 [01:35<00:00, 45.59it/s]\n"
     ]
    },
    {
     "name": "stdout",
     "output_type": "stream",
     "text": [
      "2023-01-09 20:23:11 1 epoch, ACC 0.04%, EER 7.11%, bestEER 7.11%\n"
     ]
    },
    {
     "name": "stderr",
     "output_type": "stream",
     "text": [
      "01-09 23:45:06 [ 2] Lr: 0.000970, Training: 100.00%,  Loss: 9.67035, ACC: 0.34% \r"
     ]
    },
    {
     "name": "stdout",
     "output_type": "stream",
     "text": [
      "\n"
     ]
    },
    {
     "name": "stderr",
     "output_type": "stream",
     "text": [
      "100%|██████████████████████████████████████████████████████████████████████████████| 4356/4356 [01:34<00:00, 45.90it/s]\n"
     ]
    },
    {
     "name": "stdout",
     "output_type": "stream",
     "text": [
      "2023-01-09 23:46:48 2 epoch, ACC 0.34%, EER 5.34%, bestEER 5.34%\n"
     ]
    },
    {
     "name": "stderr",
     "output_type": "stream",
     "text": [
      "01-10 03:15:13 [ 3] Lr: 0.000941, Training: 100.00%,  Loss: 9.24787, ACC: 0.86% \r"
     ]
    },
    {
     "name": "stdout",
     "output_type": "stream",
     "text": [
      "\n"
     ]
    },
    {
     "name": "stderr",
     "output_type": "stream",
     "text": [
      "100%|██████████████████████████████████████████████████████████████████████████████| 4356/4356 [01:35<00:00, 45.77it/s]\n"
     ]
    },
    {
     "name": "stdout",
     "output_type": "stream",
     "text": [
      "2023-01-10 03:16:56 3 epoch, ACC 0.86%, EER 4.17%, bestEER 4.17%\n"
     ]
    },
    {
     "name": "stderr",
     "output_type": "stream",
     "text": [
      "01-10 06:38:24 [ 4] Lr: 0.000913, Training: 100.00%,  Loss: 8.97618, ACC: 1.46% \r"
     ]
    },
    {
     "name": "stdout",
     "output_type": "stream",
     "text": [
      "\n"
     ]
    },
    {
     "name": "stderr",
     "output_type": "stream",
     "text": [
      "100%|██████████████████████████████████████████████████████████████████████████████| 4356/4356 [01:35<00:00, 45.79it/s]\n"
     ]
    },
    {
     "name": "stdout",
     "output_type": "stream",
     "text": [
      "2023-01-10 06:40:07 4 epoch, ACC 1.46%, EER 3.92%, bestEER 3.92%\n"
     ]
    },
    {
     "name": "stderr",
     "output_type": "stream",
     "text": [
      "01-10 10:01:42 [ 5] Lr: 0.000885, Training: 100.00%,  Loss: 8.77976, ACC: 2.15% \r"
     ]
    },
    {
     "name": "stdout",
     "output_type": "stream",
     "text": [
      "\n"
     ]
    },
    {
     "name": "stderr",
     "output_type": "stream",
     "text": [
      "100%|██████████████████████████████████████████████████████████████████████████████| 4356/4356 [01:35<00:00, 45.61it/s]\n"
     ]
    },
    {
     "name": "stdout",
     "output_type": "stream",
     "text": [
      "2023-01-10 10:03:24 5 epoch, ACC 2.15%, EER 3.54%, bestEER 3.54%\n"
     ]
    },
    {
     "name": "stderr",
     "output_type": "stream",
     "text": [
      "01-10 10:13:25 [ 6] Lr: 0.000859, Training: 4.69%,  Loss: 8.67642, ACC: 2.52% \r"
     ]
    }
   ],
   "source": [
    "# Train subcenter_AAM\n",
    "while(1):\n",
    "\t## Training for one epoch\n",
    "\tloss, lr, acc = s.train_network(epoch = epoch, loader = trainLoader)\n",
    "\n",
    "\t## Evaluation every [test_step] epochs\n",
    "\tif epoch % args.test_step == 0:\n",
    "\t\ts.save_parameters(args.model_save_path + \"/model_%04d.model\"%epoch)\n",
    "\t\tEERs.append(s.eval_network(eval_list = args.eval_list, eval_path = args.eval_path)[0])\n",
    "\t\tprint(time.strftime(\"%Y-%m-%d %H:%M:%S\"), \"%d epoch, ACC %2.2f%%, EER %2.2f%%, bestEER %2.2f%%\"%(epoch, acc, EERs[-1], min(EERs)))\n",
    "\t\tscore_file.write(\"%d epoch, LR %f, LOSS %f, ACC %2.2f%%, EER %2.2f%%, bestEER %2.2f%%\\n\"%(epoch, lr, loss, acc, EERs[-1], min(EERs)))\n",
    "\t\tscore_file.flush()\n",
    "\n",
    "\tif epoch >= args.max_epoch:\n",
    "\t\tquit()\n",
    "\n",
    "\tepoch += 1"
   ]
  },
  {
   "cell_type": "code",
   "execution_count": 4,
   "id": "7ff58076-b407-47d8-97e5-5fbc718087b0",
   "metadata": {
    "collapsed": true,
    "jupyter": {
     "outputs_hidden": true
    },
    "tags": []
   },
   "outputs": [
    {
     "name": "stderr",
     "output_type": "stream",
     "text": [
      "01-10 14:00:44 [ 1] Lr: 0.001000, Training: 100.00%,  Loss: 9.57552, ACC: 3.11% \r"
     ]
    },
    {
     "name": "stdout",
     "output_type": "stream",
     "text": [
      "\n"
     ]
    },
    {
     "name": "stderr",
     "output_type": "stream",
     "text": [
      "100%|██████████████████████████████████████████████████████████████████████████████| 4356/4356 [01:38<00:00, 44.34it/s]\n"
     ]
    },
    {
     "name": "stdout",
     "output_type": "stream",
     "text": [
      "2023-01-10 14:02:28 1 epoch, ACC 3.11%, EER 7.40%, bestEER 7.40%\n"
     ]
    },
    {
     "name": "stderr",
     "output_type": "stream",
     "text": [
      "01-10 17:27:16 [ 2] Lr: 0.000970, Training: 100.00%,  Loss: 5.91737, ACC: 13.84% \r"
     ]
    },
    {
     "name": "stdout",
     "output_type": "stream",
     "text": [
      "\n"
     ]
    },
    {
     "name": "stderr",
     "output_type": "stream",
     "text": [
      "100%|██████████████████████████████████████████████████████████████████████████████| 4356/4356 [01:34<00:00, 46.15it/s]\n"
     ]
    },
    {
     "name": "stdout",
     "output_type": "stream",
     "text": [
      "2023-01-10 17:28:57 2 epoch, ACC 13.84%, EER 4.62%, bestEER 4.62%\n"
     ]
    },
    {
     "name": "stderr",
     "output_type": "stream",
     "text": [
      "01-10 20:53:44 [ 3] Lr: 0.000941, Training: 100.00%,  Loss: 4.88120, ACC: 21.89% \r"
     ]
    },
    {
     "name": "stdout",
     "output_type": "stream",
     "text": [
      "\n"
     ]
    },
    {
     "name": "stderr",
     "output_type": "stream",
     "text": [
      "100%|██████████████████████████████████████████████████████████████████████████████| 4356/4356 [01:34<00:00, 46.10it/s]\n"
     ]
    },
    {
     "name": "stdout",
     "output_type": "stream",
     "text": [
      "2023-01-10 20:55:24 3 epoch, ACC 21.89%, EER 3.83%, bestEER 3.83%\n"
     ]
    },
    {
     "name": "stderr",
     "output_type": "stream",
     "text": [
      "01-11 00:20:12 [ 4] Lr: 0.000913, Training: 100.00%,  Loss: 4.29554, ACC: 27.90% \r"
     ]
    },
    {
     "name": "stdout",
     "output_type": "stream",
     "text": [
      "\n"
     ]
    },
    {
     "name": "stderr",
     "output_type": "stream",
     "text": [
      "100%|██████████████████████████████████████████████████████████████████████████████| 4356/4356 [01:35<00:00, 45.66it/s]\n"
     ]
    },
    {
     "name": "stdout",
     "output_type": "stream",
     "text": [
      "2023-01-11 00:21:53 4 epoch, ACC 27.90%, EER 3.10%, bestEER 3.10%\n"
     ]
    },
    {
     "name": "stderr",
     "output_type": "stream",
     "text": [
      "01-11 03:45:57 [ 5] Lr: 0.000885, Training: 100.00%,  Loss: 3.90482, ACC: 32.51% \r"
     ]
    },
    {
     "name": "stdout",
     "output_type": "stream",
     "text": [
      "\n"
     ]
    },
    {
     "name": "stderr",
     "output_type": "stream",
     "text": [
      "100%|██████████████████████████████████████████████████████████████████████████████| 4356/4356 [01:35<00:00, 45.40it/s]\n"
     ]
    },
    {
     "name": "stdout",
     "output_type": "stream",
     "text": [
      "2023-01-11 03:47:39 5 epoch, ACC 32.51%, EER 2.70%, bestEER 2.70%\n"
     ]
    },
    {
     "name": "stderr",
     "output_type": "stream",
     "text": [
      "01-11 07:12:23 [ 6] Lr: 0.000859, Training: 100.00%,  Loss: 3.61681, ACC: 36.14% \r"
     ]
    },
    {
     "name": "stdout",
     "output_type": "stream",
     "text": [
      "\n"
     ]
    },
    {
     "name": "stderr",
     "output_type": "stream",
     "text": [
      "100%|██████████████████████████████████████████████████████████████████████████████| 4356/4356 [01:35<00:00, 45.59it/s]\n"
     ]
    },
    {
     "name": "stdout",
     "output_type": "stream",
     "text": [
      "2023-01-11 07:14:04 6 epoch, ACC 36.14%, EER 2.55%, bestEER 2.55%\n"
     ]
    },
    {
     "name": "stderr",
     "output_type": "stream",
     "text": [
      "01-11 10:38:34 [ 7] Lr: 0.000833, Training: 100.00%,  Loss: 3.39944, ACC: 39.09% \r"
     ]
    },
    {
     "name": "stdout",
     "output_type": "stream",
     "text": [
      "\n"
     ]
    },
    {
     "name": "stderr",
     "output_type": "stream",
     "text": [
      "100%|██████████████████████████████████████████████████████████████████████████████| 4356/4356 [01:36<00:00, 45.27it/s]\n"
     ]
    },
    {
     "name": "stdout",
     "output_type": "stream",
     "text": [
      "2023-01-11 10:40:16 7 epoch, ACC 39.09%, EER 2.42%, bestEER 2.42%\n"
     ]
    },
    {
     "name": "stderr",
     "output_type": "stream",
     "text": [
      "01-11 14:04:35 [ 8] Lr: 0.000808, Training: 100.00%,  Loss: 3.22355, ACC: 41.56% \r"
     ]
    },
    {
     "name": "stdout",
     "output_type": "stream",
     "text": [
      "\n"
     ]
    },
    {
     "name": "stderr",
     "output_type": "stream",
     "text": [
      "100%|██████████████████████████████████████████████████████████████████████████████| 4356/4356 [01:35<00:00, 45.53it/s]\n"
     ]
    },
    {
     "name": "stdout",
     "output_type": "stream",
     "text": [
      "2023-01-11 14:06:17 8 epoch, ACC 41.56%, EER 2.18%, bestEER 2.18%\n"
     ]
    },
    {
     "name": "stderr",
     "output_type": "stream",
     "text": [
      "01-11 17:31:01 [ 9] Lr: 0.000784, Training: 100.00%,  Loss: 3.08273, ACC: 43.65% \r"
     ]
    },
    {
     "name": "stdout",
     "output_type": "stream",
     "text": [
      "\n"
     ]
    },
    {
     "name": "stderr",
     "output_type": "stream",
     "text": [
      "100%|██████████████████████████████████████████████████████████████████████████████| 4356/4356 [01:36<00:00, 45.31it/s]\n"
     ]
    },
    {
     "name": "stdout",
     "output_type": "stream",
     "text": [
      "2023-01-11 17:32:43 9 epoch, ACC 43.65%, EER 2.08%, bestEER 2.08%\n"
     ]
    },
    {
     "name": "stderr",
     "output_type": "stream",
     "text": [
      "01-11 21:00:16 [10] Lr: 0.000760, Training: 100.00%,  Loss: 2.96017, ACC: 45.47% \r"
     ]
    },
    {
     "name": "stdout",
     "output_type": "stream",
     "text": [
      "\n"
     ]
    },
    {
     "name": "stderr",
     "output_type": "stream",
     "text": [
      "100%|██████████████████████████████████████████████████████████████████████████████| 4356/4356 [01:36<00:00, 45.07it/s]\n"
     ]
    },
    {
     "name": "stdout",
     "output_type": "stream",
     "text": [
      "2023-01-11 21:01:58 10 epoch, ACC 45.47%, EER 2.03%, bestEER 2.03%\n"
     ]
    },
    {
     "name": "stderr",
     "output_type": "stream",
     "text": [
      "01-11 22:52:24 [11] Lr: 0.000737, Training: 53.08%,  Loss: 2.85256, ACC: 46.99% \r"
     ]
    },
    {
     "ename": "KeyboardInterrupt",
     "evalue": "",
     "output_type": "error",
     "traceback": [
      "\u001b[1;31m---------------------------------------------------------------------------\u001b[0m",
      "\u001b[1;31mKeyboardInterrupt\u001b[0m                         Traceback (most recent call last)",
      "Cell \u001b[1;32mIn[4], line 4\u001b[0m\n\u001b[0;32m      1\u001b[0m \u001b[38;5;66;03m# Train subcenter_AAM2\u001b[39;00m\n\u001b[0;32m      2\u001b[0m \u001b[38;5;28;01mwhile\u001b[39;00m(\u001b[38;5;241m1\u001b[39m):\n\u001b[0;32m      3\u001b[0m \t\u001b[38;5;66;03m## Training for one epoch\u001b[39;00m\n\u001b[1;32m----> 4\u001b[0m \tloss, lr, acc \u001b[38;5;241m=\u001b[39m \u001b[43ms\u001b[49m\u001b[38;5;241;43m.\u001b[39;49m\u001b[43mtrain_network\u001b[49m\u001b[43m(\u001b[49m\u001b[43mepoch\u001b[49m\u001b[43m \u001b[49m\u001b[38;5;241;43m=\u001b[39;49m\u001b[43m \u001b[49m\u001b[43mepoch\u001b[49m\u001b[43m,\u001b[49m\u001b[43m \u001b[49m\u001b[43mloader\u001b[49m\u001b[43m \u001b[49m\u001b[38;5;241;43m=\u001b[39;49m\u001b[43m \u001b[49m\u001b[43mtrainLoader\u001b[49m\u001b[43m)\u001b[49m\n\u001b[0;32m      6\u001b[0m \t\u001b[38;5;66;03m## Evaluation every [test_step] epochs\u001b[39;00m\n\u001b[0;32m      7\u001b[0m \t\u001b[38;5;28;01mif\u001b[39;00m epoch \u001b[38;5;241m%\u001b[39m args\u001b[38;5;241m.\u001b[39mtest_step \u001b[38;5;241m==\u001b[39m \u001b[38;5;241m0\u001b[39m:\n",
      "File \u001b[1;32mD:\\MyPythonfile\\ECAPA-TDNN-main\\ECAPAModel.py:30\u001b[0m, in \u001b[0;36mECAPAModel.train_network\u001b[1;34m(self, epoch, loader)\u001b[0m\n\u001b[0;32m     28\u001b[0m index, top1, loss \u001b[38;5;241m=\u001b[39m \u001b[38;5;241m0\u001b[39m, \u001b[38;5;241m0\u001b[39m, \u001b[38;5;241m0\u001b[39m\n\u001b[0;32m     29\u001b[0m lr \u001b[38;5;241m=\u001b[39m \u001b[38;5;28mself\u001b[39m\u001b[38;5;241m.\u001b[39moptim\u001b[38;5;241m.\u001b[39mparam_groups[\u001b[38;5;241m0\u001b[39m][\u001b[38;5;124m'\u001b[39m\u001b[38;5;124mlr\u001b[39m\u001b[38;5;124m'\u001b[39m]\n\u001b[1;32m---> 30\u001b[0m \u001b[38;5;28;01mfor\u001b[39;00m num, (data, labels) \u001b[38;5;129;01min\u001b[39;00m \u001b[38;5;28menumerate\u001b[39m(loader, start \u001b[38;5;241m=\u001b[39m \u001b[38;5;241m1\u001b[39m):\n\u001b[0;32m     31\u001b[0m \t\u001b[38;5;28mself\u001b[39m\u001b[38;5;241m.\u001b[39mzero_grad()\n\u001b[0;32m     32\u001b[0m \tlabels            \u001b[38;5;241m=\u001b[39m torch\u001b[38;5;241m.\u001b[39mLongTensor(labels)\u001b[38;5;241m.\u001b[39mcuda()\n",
      "File \u001b[1;32m~\\.conda\\envs\\torch\\lib\\site-packages\\torch\\utils\\data\\dataloader.py:628\u001b[0m, in \u001b[0;36m_BaseDataLoaderIter.__next__\u001b[1;34m(self)\u001b[0m\n\u001b[0;32m    625\u001b[0m \u001b[38;5;28;01mif\u001b[39;00m \u001b[38;5;28mself\u001b[39m\u001b[38;5;241m.\u001b[39m_sampler_iter \u001b[38;5;129;01mis\u001b[39;00m \u001b[38;5;28;01mNone\u001b[39;00m:\n\u001b[0;32m    626\u001b[0m     \u001b[38;5;66;03m# TODO(https://github.com/pytorch/pytorch/issues/76750)\u001b[39;00m\n\u001b[0;32m    627\u001b[0m     \u001b[38;5;28mself\u001b[39m\u001b[38;5;241m.\u001b[39m_reset()  \u001b[38;5;66;03m# type: ignore[call-arg]\u001b[39;00m\n\u001b[1;32m--> 628\u001b[0m data \u001b[38;5;241m=\u001b[39m \u001b[38;5;28;43mself\u001b[39;49m\u001b[38;5;241;43m.\u001b[39;49m\u001b[43m_next_data\u001b[49m\u001b[43m(\u001b[49m\u001b[43m)\u001b[49m\n\u001b[0;32m    629\u001b[0m \u001b[38;5;28mself\u001b[39m\u001b[38;5;241m.\u001b[39m_num_yielded \u001b[38;5;241m+\u001b[39m\u001b[38;5;241m=\u001b[39m \u001b[38;5;241m1\u001b[39m\n\u001b[0;32m    630\u001b[0m \u001b[38;5;28;01mif\u001b[39;00m \u001b[38;5;28mself\u001b[39m\u001b[38;5;241m.\u001b[39m_dataset_kind \u001b[38;5;241m==\u001b[39m _DatasetKind\u001b[38;5;241m.\u001b[39mIterable \u001b[38;5;129;01mand\u001b[39;00m \\\n\u001b[0;32m    631\u001b[0m         \u001b[38;5;28mself\u001b[39m\u001b[38;5;241m.\u001b[39m_IterableDataset_len_called \u001b[38;5;129;01mis\u001b[39;00m \u001b[38;5;129;01mnot\u001b[39;00m \u001b[38;5;28;01mNone\u001b[39;00m \u001b[38;5;129;01mand\u001b[39;00m \\\n\u001b[0;32m    632\u001b[0m         \u001b[38;5;28mself\u001b[39m\u001b[38;5;241m.\u001b[39m_num_yielded \u001b[38;5;241m>\u001b[39m \u001b[38;5;28mself\u001b[39m\u001b[38;5;241m.\u001b[39m_IterableDataset_len_called:\n",
      "File \u001b[1;32m~\\.conda\\envs\\torch\\lib\\site-packages\\torch\\utils\\data\\dataloader.py:1316\u001b[0m, in \u001b[0;36m_MultiProcessingDataLoaderIter._next_data\u001b[1;34m(self)\u001b[0m\n\u001b[0;32m   1313\u001b[0m     \u001b[38;5;28;01mreturn\u001b[39;00m \u001b[38;5;28mself\u001b[39m\u001b[38;5;241m.\u001b[39m_process_data(data)\n\u001b[0;32m   1315\u001b[0m \u001b[38;5;28;01massert\u001b[39;00m \u001b[38;5;129;01mnot\u001b[39;00m \u001b[38;5;28mself\u001b[39m\u001b[38;5;241m.\u001b[39m_shutdown \u001b[38;5;129;01mand\u001b[39;00m \u001b[38;5;28mself\u001b[39m\u001b[38;5;241m.\u001b[39m_tasks_outstanding \u001b[38;5;241m>\u001b[39m \u001b[38;5;241m0\u001b[39m\n\u001b[1;32m-> 1316\u001b[0m idx, data \u001b[38;5;241m=\u001b[39m \u001b[38;5;28;43mself\u001b[39;49m\u001b[38;5;241;43m.\u001b[39;49m\u001b[43m_get_data\u001b[49m\u001b[43m(\u001b[49m\u001b[43m)\u001b[49m\n\u001b[0;32m   1317\u001b[0m \u001b[38;5;28mself\u001b[39m\u001b[38;5;241m.\u001b[39m_tasks_outstanding \u001b[38;5;241m-\u001b[39m\u001b[38;5;241m=\u001b[39m \u001b[38;5;241m1\u001b[39m\n\u001b[0;32m   1318\u001b[0m \u001b[38;5;28;01mif\u001b[39;00m \u001b[38;5;28mself\u001b[39m\u001b[38;5;241m.\u001b[39m_dataset_kind \u001b[38;5;241m==\u001b[39m _DatasetKind\u001b[38;5;241m.\u001b[39mIterable:\n\u001b[0;32m   1319\u001b[0m     \u001b[38;5;66;03m# Check for _IterableDatasetStopIteration\u001b[39;00m\n",
      "File \u001b[1;32m~\\.conda\\envs\\torch\\lib\\site-packages\\torch\\utils\\data\\dataloader.py:1272\u001b[0m, in \u001b[0;36m_MultiProcessingDataLoaderIter._get_data\u001b[1;34m(self)\u001b[0m\n\u001b[0;32m   1270\u001b[0m \u001b[38;5;28;01melif\u001b[39;00m \u001b[38;5;28mself\u001b[39m\u001b[38;5;241m.\u001b[39m_pin_memory:\n\u001b[0;32m   1271\u001b[0m     \u001b[38;5;28;01mwhile\u001b[39;00m \u001b[38;5;28mself\u001b[39m\u001b[38;5;241m.\u001b[39m_pin_memory_thread\u001b[38;5;241m.\u001b[39mis_alive():\n\u001b[1;32m-> 1272\u001b[0m         success, data \u001b[38;5;241m=\u001b[39m \u001b[38;5;28;43mself\u001b[39;49m\u001b[38;5;241;43m.\u001b[39;49m\u001b[43m_try_get_data\u001b[49m\u001b[43m(\u001b[49m\u001b[43m)\u001b[49m\n\u001b[0;32m   1273\u001b[0m         \u001b[38;5;28;01mif\u001b[39;00m success:\n\u001b[0;32m   1274\u001b[0m             \u001b[38;5;28;01mreturn\u001b[39;00m data\n",
      "File \u001b[1;32m~\\.conda\\envs\\torch\\lib\\site-packages\\torch\\utils\\data\\dataloader.py:1120\u001b[0m, in \u001b[0;36m_MultiProcessingDataLoaderIter._try_get_data\u001b[1;34m(self, timeout)\u001b[0m\n\u001b[0;32m   1107\u001b[0m \u001b[38;5;28;01mdef\u001b[39;00m \u001b[38;5;21m_try_get_data\u001b[39m(\u001b[38;5;28mself\u001b[39m, timeout\u001b[38;5;241m=\u001b[39m_utils\u001b[38;5;241m.\u001b[39mMP_STATUS_CHECK_INTERVAL):\n\u001b[0;32m   1108\u001b[0m     \u001b[38;5;66;03m# Tries to fetch data from `self._data_queue` once for a given timeout.\u001b[39;00m\n\u001b[0;32m   1109\u001b[0m     \u001b[38;5;66;03m# This can also be used as inner loop of fetching without timeout, with\u001b[39;00m\n\u001b[1;32m   (...)\u001b[0m\n\u001b[0;32m   1117\u001b[0m     \u001b[38;5;66;03m# Returns a 2-tuple:\u001b[39;00m\n\u001b[0;32m   1118\u001b[0m     \u001b[38;5;66;03m#   (bool: whether successfully get data, any: data if successful else None)\u001b[39;00m\n\u001b[0;32m   1119\u001b[0m     \u001b[38;5;28;01mtry\u001b[39;00m:\n\u001b[1;32m-> 1120\u001b[0m         data \u001b[38;5;241m=\u001b[39m \u001b[38;5;28;43mself\u001b[39;49m\u001b[38;5;241;43m.\u001b[39;49m\u001b[43m_data_queue\u001b[49m\u001b[38;5;241;43m.\u001b[39;49m\u001b[43mget\u001b[49m\u001b[43m(\u001b[49m\u001b[43mtimeout\u001b[49m\u001b[38;5;241;43m=\u001b[39;49m\u001b[43mtimeout\u001b[49m\u001b[43m)\u001b[49m\n\u001b[0;32m   1121\u001b[0m         \u001b[38;5;28;01mreturn\u001b[39;00m (\u001b[38;5;28;01mTrue\u001b[39;00m, data)\n\u001b[0;32m   1122\u001b[0m     \u001b[38;5;28;01mexcept\u001b[39;00m \u001b[38;5;167;01mException\u001b[39;00m \u001b[38;5;28;01mas\u001b[39;00m e:\n\u001b[0;32m   1123\u001b[0m         \u001b[38;5;66;03m# At timeout and error, we manually check whether any worker has\u001b[39;00m\n\u001b[0;32m   1124\u001b[0m         \u001b[38;5;66;03m# failed. Note that this is the only mechanism for Windows to detect\u001b[39;00m\n\u001b[0;32m   1125\u001b[0m         \u001b[38;5;66;03m# worker failures.\u001b[39;00m\n",
      "File \u001b[1;32m~\\.conda\\envs\\torch\\lib\\queue.py:180\u001b[0m, in \u001b[0;36mQueue.get\u001b[1;34m(self, block, timeout)\u001b[0m\n\u001b[0;32m    178\u001b[0m         \u001b[38;5;28;01mif\u001b[39;00m remaining \u001b[38;5;241m<\u001b[39m\u001b[38;5;241m=\u001b[39m \u001b[38;5;241m0.0\u001b[39m:\n\u001b[0;32m    179\u001b[0m             \u001b[38;5;28;01mraise\u001b[39;00m Empty\n\u001b[1;32m--> 180\u001b[0m         \u001b[38;5;28;43mself\u001b[39;49m\u001b[38;5;241;43m.\u001b[39;49m\u001b[43mnot_empty\u001b[49m\u001b[38;5;241;43m.\u001b[39;49m\u001b[43mwait\u001b[49m\u001b[43m(\u001b[49m\u001b[43mremaining\u001b[49m\u001b[43m)\u001b[49m\n\u001b[0;32m    181\u001b[0m item \u001b[38;5;241m=\u001b[39m \u001b[38;5;28mself\u001b[39m\u001b[38;5;241m.\u001b[39m_get()\n\u001b[0;32m    182\u001b[0m \u001b[38;5;28mself\u001b[39m\u001b[38;5;241m.\u001b[39mnot_full\u001b[38;5;241m.\u001b[39mnotify()\n",
      "File \u001b[1;32m~\\.conda\\envs\\torch\\lib\\threading.py:316\u001b[0m, in \u001b[0;36mCondition.wait\u001b[1;34m(self, timeout)\u001b[0m\n\u001b[0;32m    314\u001b[0m \u001b[38;5;28;01melse\u001b[39;00m:\n\u001b[0;32m    315\u001b[0m     \u001b[38;5;28;01mif\u001b[39;00m timeout \u001b[38;5;241m>\u001b[39m \u001b[38;5;241m0\u001b[39m:\n\u001b[1;32m--> 316\u001b[0m         gotit \u001b[38;5;241m=\u001b[39m \u001b[43mwaiter\u001b[49m\u001b[38;5;241;43m.\u001b[39;49m\u001b[43macquire\u001b[49m\u001b[43m(\u001b[49m\u001b[38;5;28;43;01mTrue\u001b[39;49;00m\u001b[43m,\u001b[49m\u001b[43m \u001b[49m\u001b[43mtimeout\u001b[49m\u001b[43m)\u001b[49m\n\u001b[0;32m    317\u001b[0m     \u001b[38;5;28;01melse\u001b[39;00m:\n\u001b[0;32m    318\u001b[0m         gotit \u001b[38;5;241m=\u001b[39m waiter\u001b[38;5;241m.\u001b[39macquire(\u001b[38;5;28;01mFalse\u001b[39;00m)\n",
      "\u001b[1;31mKeyboardInterrupt\u001b[0m: "
     ]
    }
   ],
   "source": [
    "# Train subcenter_AAM2\n",
    "while(1):\n",
    "\t## Training for one epoch\n",
    "\tloss, lr, acc = s.train_network(epoch = epoch, loader = trainLoader)\n",
    "\n",
    "\t## Evaluation every [test_step] epochs\n",
    "\tif epoch % args.test_step == 0:\n",
    "\t\ts.save_parameters(args.model_save_path + \"/model_%04d.model\"%epoch)\n",
    "\t\tEERs.append(s.eval_network(eval_list = args.eval_list, eval_path = args.eval_path)[0])\n",
    "\t\tprint(time.strftime(\"%Y-%m-%d %H:%M:%S\"), \"%d epoch, ACC %2.2f%%, EER %2.2f%%, bestEER %2.2f%%\"%(epoch, acc, EERs[-1], min(EERs)))\n",
    "\t\tscore_file.write(\"%d epoch, LR %f, LOSS %f, ACC %2.2f%%, EER %2.2f%%, bestEER %2.2f%%\\n\"%(epoch, lr, loss, acc, EERs[-1], min(EERs)))\n",
    "\t\tscore_file.flush()\n",
    "\n",
    "\tif epoch >= args.max_epoch:\n",
    "\t\tquit()\n",
    "\n",
    "\tepoch += 1"
   ]
  },
  {
   "cell_type": "code",
   "execution_count": null,
   "id": "11747bf5-ead2-4620-8e6b-840043c87dc9",
   "metadata": {},
   "outputs": [
    {
     "name": "stderr",
     "output_type": "stream",
     "text": [
      "01-12 03:38:39 [ 1] Lr: 0.001000, Training: 100.00%,  Loss: 13.72212, ACC: 0.00% \r"
     ]
    },
    {
     "name": "stdout",
     "output_type": "stream",
     "text": [
      "\n"
     ]
    },
    {
     "name": "stderr",
     "output_type": "stream",
     "text": [
      "100%|██████████████████████████████████████████████████████████████████████████████| 4356/4356 [01:33<00:00, 46.52it/s]\n"
     ]
    },
    {
     "name": "stdout",
     "output_type": "stream",
     "text": [
      "2023-01-12 03:40:20 1 epoch, ACC 0.00%, EER 21.73%, bestEER 21.73%\n"
     ]
    },
    {
     "name": "stderr",
     "output_type": "stream",
     "text": [
      "01-12 08:16:50 [ 2] Lr: 0.000970, Training: 100.00%,  Loss: 11.90138, ACC: 0.02% \r"
     ]
    },
    {
     "name": "stdout",
     "output_type": "stream",
     "text": [
      "\n"
     ]
    },
    {
     "name": "stderr",
     "output_type": "stream",
     "text": [
      "100%|██████████████████████████████████████████████████████████████████████████████| 4356/4356 [01:33<00:00, 46.68it/s]\n"
     ]
    },
    {
     "name": "stdout",
     "output_type": "stream",
     "text": [
      "2023-01-12 08:18:30 2 epoch, ACC 0.02%, EER 18.21%, bestEER 18.21%\n"
     ]
    },
    {
     "name": "stderr",
     "output_type": "stream",
     "text": [
      "01-12 12:56:26 [ 3] Lr: 0.000941, Training: 100.00%,  Loss: 10.36987, ACC: 0.37% \r"
     ]
    },
    {
     "name": "stdout",
     "output_type": "stream",
     "text": [
      "\n"
     ]
    },
    {
     "name": "stderr",
     "output_type": "stream",
     "text": [
      "100%|██████████████████████████████████████████████████████████████████████████████| 4356/4356 [01:33<00:00, 46.70it/s]\n"
     ]
    },
    {
     "name": "stdout",
     "output_type": "stream",
     "text": [
      "2023-01-12 12:58:06 3 epoch, ACC 0.37%, EER 13.46%, bestEER 13.46%\n"
     ]
    },
    {
     "name": "stderr",
     "output_type": "stream",
     "text": [
      "01-12 17:35:48 [ 4] Lr: 0.000913, Training: 100.00%,  Loss: 9.29958, ACC: 0.98% \r"
     ]
    },
    {
     "name": "stdout",
     "output_type": "stream",
     "text": [
      "\n"
     ]
    },
    {
     "name": "stderr",
     "output_type": "stream",
     "text": [
      "100%|██████████████████████████████████████████████████████████████████████████████| 4356/4356 [01:34<00:00, 46.00it/s]\n"
     ]
    },
    {
     "name": "stdout",
     "output_type": "stream",
     "text": [
      "2023-01-12 17:37:29 4 epoch, ACC 0.98%, EER 11.77%, bestEER 11.77%\n"
     ]
    },
    {
     "name": "stderr",
     "output_type": "stream",
     "text": [
      "01-12 20:28:41 [ 5] Lr: 0.000885, Training: 61.39%,  Loss: 8.75831, ACC: 1.51% \r"
     ]
    }
   ],
   "source": [
    "# Train subcenter_DAM\n",
    "while(1):\n",
    "\t## Training for one epoch\n",
    "\tloss, lr, acc = s.train_network(epoch = epoch, loader = trainLoader)\n",
    "\n",
    "\t## Evaluation every [test_step] epochs\n",
    "\tif epoch % args.test_step == 0:\n",
    "\t\ts.save_parameters(args.model_save_path + \"/model_%04d.model\"%epoch)\n",
    "\t\tEERs.append(s.eval_network(eval_list = args.eval_list, eval_path = args.eval_path)[0])\n",
    "\t\tprint(time.strftime(\"%Y-%m-%d %H:%M:%S\"), \"%d epoch, ACC %2.2f%%, EER %2.2f%%, bestEER %2.2f%%\"%(epoch, acc, EERs[-1], min(EERs)))\n",
    "\t\tscore_file.write(\"%d epoch, LR %f, LOSS %f, ACC %2.2f%%, EER %2.2f%%, bestEER %2.2f%%\\n\"%(epoch, lr, loss, acc, EERs[-1], min(EERs)))\n",
    "\t\tscore_file.flush()\n",
    "\n",
    "\tif epoch >= args.max_epoch:\n",
    "\t\tquit()\n",
    "\n",
    "\tepoch += 1"
   ]
  },
  {
   "cell_type": "code",
   "execution_count": null,
   "id": "c6ddfe42-5d6e-4a2a-bd93-b54b62d05b62",
   "metadata": {},
   "outputs": [
    {
     "name": "stderr",
     "output_type": "stream",
     "text": [
      "01-13 11:17:07 [ 3] Lr: 0.000941, Training: 100.00%,  Loss: 8.96316, ACC: 1.60% \r"
     ]
    },
    {
     "name": "stdout",
     "output_type": "stream",
     "text": [
      "\n"
     ]
    },
    {
     "name": "stderr",
     "output_type": "stream",
     "text": [
      "100%|██████████████████████████████████████████████████████████████████████████████| 4356/4356 [01:36<00:00, 45.24it/s]\n"
     ]
    },
    {
     "name": "stdout",
     "output_type": "stream",
     "text": [
      "2023-01-13 11:18:50 3 epoch, ACC 1.60%, EER 12.54%, bestEER 12.54%\n"
     ]
    },
    {
     "name": "stderr",
     "output_type": "stream",
     "text": [
      "01-13 13:04:07 [ 4] Lr: 0.000913, Training: 100.00%,  Loss: 7.31878, ACC: 4.80% \r"
     ]
    },
    {
     "name": "stdout",
     "output_type": "stream",
     "text": [
      "\n"
     ]
    },
    {
     "name": "stderr",
     "output_type": "stream",
     "text": [
      "100%|██████████████████████████████████████████████████████████████████████████████| 4356/4356 [01:35<00:00, 45.67it/s]\n"
     ]
    },
    {
     "name": "stdout",
     "output_type": "stream",
     "text": [
      "2023-01-13 13:05:49 4 epoch, ACC 4.80%, EER 10.54%, bestEER 10.54%\n"
     ]
    },
    {
     "name": "stderr",
     "output_type": "stream",
     "text": [
      "01-13 14:49:40 [ 5] Lr: 0.000885, Training: 100.00%,  Loss: 6.49611, ACC: 8.12% \r"
     ]
    },
    {
     "name": "stdout",
     "output_type": "stream",
     "text": [
      "\n"
     ]
    },
    {
     "name": "stderr",
     "output_type": "stream",
     "text": [
      "100%|██████████████████████████████████████████████████████████████████████████████| 4356/4356 [01:35<00:00, 45.49it/s]\n"
     ]
    },
    {
     "name": "stdout",
     "output_type": "stream",
     "text": [
      "2023-01-13 14:51:23 5 epoch, ACC 8.12%, EER 7.70%, bestEER 7.70%\n"
     ]
    },
    {
     "name": "stderr",
     "output_type": "stream",
     "text": [
      "01-13 16:34:43 [ 6] Lr: 0.000859, Training: 100.00%,  Loss: 5.94222, ACC: 11.17% \r"
     ]
    },
    {
     "name": "stdout",
     "output_type": "stream",
     "text": [
      "\n"
     ]
    },
    {
     "name": "stderr",
     "output_type": "stream",
     "text": [
      "100%|██████████████████████████████████████████████████████████████████████████████| 4356/4356 [01:35<00:00, 45.67it/s]\n"
     ]
    },
    {
     "name": "stdout",
     "output_type": "stream",
     "text": [
      "2023-01-13 16:36:26 6 epoch, ACC 11.17%, EER 6.90%, bestEER 6.90%\n"
     ]
    },
    {
     "name": "stderr",
     "output_type": "stream",
     "text": [
      "01-13 18:20:17 [ 7] Lr: 0.000833, Training: 100.00%,  Loss: 5.54109, ACC: 13.91% \r"
     ]
    },
    {
     "name": "stdout",
     "output_type": "stream",
     "text": [
      "\n"
     ]
    },
    {
     "name": "stderr",
     "output_type": "stream",
     "text": [
      "100%|██████████████████████████████████████████████████████████████████████████████| 4356/4356 [01:36<00:00, 45.34it/s]\n"
     ]
    },
    {
     "name": "stdout",
     "output_type": "stream",
     "text": [
      "2023-01-13 18:22:01 7 epoch, ACC 13.91%, EER 5.62%, bestEER 5.62%\n"
     ]
    },
    {
     "name": "stderr",
     "output_type": "stream",
     "text": [
      "01-13 20:03:37 [ 8] Lr: 0.000808, Training: 100.00%,  Loss: 5.21937, ACC: 16.40% \r"
     ]
    },
    {
     "name": "stdout",
     "output_type": "stream",
     "text": [
      "\n"
     ]
    },
    {
     "name": "stderr",
     "output_type": "stream",
     "text": [
      "100%|██████████████████████████████████████████████████████████████████████████████| 4356/4356 [01:36<00:00, 45.10it/s]\n"
     ]
    },
    {
     "name": "stdout",
     "output_type": "stream",
     "text": [
      "2023-01-13 20:05:20 8 epoch, ACC 16.40%, EER 5.03%, bestEER 5.03%\n"
     ]
    },
    {
     "name": "stderr",
     "output_type": "stream",
     "text": [
      "01-13 21:49:12 [ 9] Lr: 0.000784, Training: 100.00%,  Loss: 4.95327, ACC: 18.70% \r"
     ]
    },
    {
     "name": "stdout",
     "output_type": "stream",
     "text": [
      "\n"
     ]
    },
    {
     "name": "stderr",
     "output_type": "stream",
     "text": [
      "100%|██████████████████████████████████████████████████████████████████████████████| 4356/4356 [01:39<00:00, 43.94it/s]\n"
     ]
    },
    {
     "name": "stdout",
     "output_type": "stream",
     "text": [
      "2023-01-13 21:50:58 9 epoch, ACC 18.70%, EER 4.81%, bestEER 4.81%\n"
     ]
    },
    {
     "name": "stderr",
     "output_type": "stream",
     "text": [
      "01-13 23:32:30 [10] Lr: 0.000760, Training: 100.00%,  Loss: 4.73445, ACC: 20.73% \r"
     ]
    },
    {
     "name": "stdout",
     "output_type": "stream",
     "text": [
      "\n"
     ]
    },
    {
     "name": "stderr",
     "output_type": "stream",
     "text": [
      "100%|██████████████████████████████████████████████████████████████████████████████| 4356/4356 [01:35<00:00, 45.48it/s]\n"
     ]
    },
    {
     "name": "stdout",
     "output_type": "stream",
     "text": [
      "2023-01-13 23:34:14 10 epoch, ACC 20.73%, EER 4.35%, bestEER 4.35%\n"
     ]
    },
    {
     "name": "stderr",
     "output_type": "stream",
     "text": [
      "01-14 01:18:18 [11] Lr: 0.000737, Training: 100.00%,  Loss: 4.54155, ACC: 22.69% \r"
     ]
    },
    {
     "name": "stdout",
     "output_type": "stream",
     "text": [
      "\n"
     ]
    },
    {
     "name": "stderr",
     "output_type": "stream",
     "text": [
      "100%|██████████████████████████████████████████████████████████████████████████████| 4356/4356 [01:35<00:00, 45.45it/s]\n"
     ]
    },
    {
     "name": "stdout",
     "output_type": "stream",
     "text": [
      "2023-01-14 01:20:02 11 epoch, ACC 22.69%, EER 4.12%, bestEER 4.12%\n"
     ]
    },
    {
     "name": "stderr",
     "output_type": "stream",
     "text": [
      "01-14 03:03:55 [12] Lr: 0.000715, Training: 100.00%,  Loss: 4.37373, ACC: 24.49% \r"
     ]
    },
    {
     "name": "stdout",
     "output_type": "stream",
     "text": [
      "\n"
     ]
    },
    {
     "name": "stderr",
     "output_type": "stream",
     "text": [
      "100%|██████████████████████████████████████████████████████████████████████████████| 4356/4356 [01:35<00:00, 45.58it/s]\n"
     ]
    },
    {
     "name": "stdout",
     "output_type": "stream",
     "text": [
      "2023-01-14 03:05:37 12 epoch, ACC 24.49%, EER 4.07%, bestEER 4.07%\n"
     ]
    },
    {
     "name": "stderr",
     "output_type": "stream",
     "text": [
      "01-14 04:49:31 [13] Lr: 0.000694, Training: 100.00%,  Loss: 4.21989, ACC: 26.27% \r"
     ]
    },
    {
     "name": "stdout",
     "output_type": "stream",
     "text": [
      "\n"
     ]
    },
    {
     "name": "stderr",
     "output_type": "stream",
     "text": [
      "100%|██████████████████████████████████████████████████████████████████████████████| 4356/4356 [01:35<00:00, 45.52it/s]\n"
     ]
    },
    {
     "name": "stdout",
     "output_type": "stream",
     "text": [
      "2023-01-14 04:51:14 13 epoch, ACC 26.27%, EER 3.61%, bestEER 3.61%\n"
     ]
    },
    {
     "name": "stderr",
     "output_type": "stream",
     "text": [
      "01-14 06:35:22 [14] Lr: 0.000673, Training: 100.00%,  Loss: 4.09473, ACC: 27.68% \r"
     ]
    },
    {
     "name": "stdout",
     "output_type": "stream",
     "text": [
      "\n"
     ]
    },
    {
     "name": "stderr",
     "output_type": "stream",
     "text": [
      "100%|██████████████████████████████████████████████████████████████████████████████| 4356/4356 [01:35<00:00, 45.52it/s]\n"
     ]
    },
    {
     "name": "stdout",
     "output_type": "stream",
     "text": [
      "2023-01-14 06:37:05 14 epoch, ACC 27.68%, EER 3.49%, bestEER 3.49%\n"
     ]
    },
    {
     "name": "stderr",
     "output_type": "stream",
     "text": [
      "01-14 08:20:53 [15] Lr: 0.000653, Training: 100.00%,  Loss: 3.97635, ACC: 29.02% \r"
     ]
    },
    {
     "name": "stdout",
     "output_type": "stream",
     "text": [
      "\n"
     ]
    },
    {
     "name": "stderr",
     "output_type": "stream",
     "text": [
      "100%|██████████████████████████████████████████████████████████████████████████████| 4356/4356 [01:35<00:00, 45.75it/s]\n"
     ]
    },
    {
     "name": "stdout",
     "output_type": "stream",
     "text": [
      "2023-01-14 08:22:36 15 epoch, ACC 29.02%, EER 3.24%, bestEER 3.24%\n"
     ]
    },
    {
     "name": "stderr",
     "output_type": "stream",
     "text": [
      "01-14 10:06:14 [16] Lr: 0.000633, Training: 100.00%,  Loss: 3.86947, ACC: 30.43% \r"
     ]
    },
    {
     "name": "stdout",
     "output_type": "stream",
     "text": [
      "\n"
     ]
    },
    {
     "name": "stderr",
     "output_type": "stream",
     "text": [
      "100%|██████████████████████████████████████████████████████████████████████████████| 4356/4356 [01:37<00:00, 44.87it/s]\n"
     ]
    },
    {
     "name": "stdout",
     "output_type": "stream",
     "text": [
      "2023-01-14 10:07:58 16 epoch, ACC 30.43%, EER 3.43%, bestEER 3.24%\n"
     ]
    },
    {
     "name": "stderr",
     "output_type": "stream",
     "text": [
      "01-14 11:50:31 [17] Lr: 0.000614, Training: 100.00%,  Loss: 3.77174, ACC: 31.68% \r"
     ]
    },
    {
     "name": "stdout",
     "output_type": "stream",
     "text": [
      "\n"
     ]
    },
    {
     "name": "stderr",
     "output_type": "stream",
     "text": [
      "100%|██████████████████████████████████████████████████████████████████████████████| 4356/4356 [01:39<00:00, 43.97it/s]\n"
     ]
    },
    {
     "name": "stdout",
     "output_type": "stream",
     "text": [
      "2023-01-14 11:52:17 17 epoch, ACC 31.68%, EER 3.19%, bestEER 3.19%\n"
     ]
    },
    {
     "name": "stderr",
     "output_type": "stream",
     "text": [
      "01-14 13:36:30 [18] Lr: 0.000596, Training: 100.00%,  Loss: 3.67799, ACC: 32.94% \r"
     ]
    },
    {
     "name": "stdout",
     "output_type": "stream",
     "text": [
      "\n"
     ]
    },
    {
     "name": "stderr",
     "output_type": "stream",
     "text": [
      "100%|██████████████████████████████████████████████████████████████████████████████| 4356/4356 [01:35<00:00, 45.52it/s]\n"
     ]
    },
    {
     "name": "stdout",
     "output_type": "stream",
     "text": [
      "2023-01-14 13:38:13 18 epoch, ACC 32.94%, EER 3.20%, bestEER 3.19%\n"
     ]
    },
    {
     "name": "stderr",
     "output_type": "stream",
     "text": [
      "01-14 15:22:16 [19] Lr: 0.000578, Training: 100.00%,  Loss: 3.60182, ACC: 33.93% \r"
     ]
    },
    {
     "name": "stdout",
     "output_type": "stream",
     "text": [
      "\n"
     ]
    },
    {
     "name": "stderr",
     "output_type": "stream",
     "text": [
      "100%|██████████████████████████████████████████████████████████████████████████████| 4356/4356 [01:36<00:00, 45.27it/s]\n"
     ]
    },
    {
     "name": "stdout",
     "output_type": "stream",
     "text": [
      "2023-01-14 15:23:59 19 epoch, ACC 33.93%, EER 3.06%, bestEER 3.06%\n"
     ]
    },
    {
     "name": "stderr",
     "output_type": "stream",
     "text": [
      "01-14 17:08:18 [20] Lr: 0.000561, Training: 100.00%,  Loss: 3.52502, ACC: 35.01% \r"
     ]
    },
    {
     "name": "stdout",
     "output_type": "stream",
     "text": [
      "\n"
     ]
    },
    {
     "name": "stderr",
     "output_type": "stream",
     "text": [
      "100%|██████████████████████████████████████████████████████████████████████████████| 4356/4356 [01:36<00:00, 45.34it/s]\n"
     ]
    },
    {
     "name": "stdout",
     "output_type": "stream",
     "text": [
      "2023-01-14 17:10:01 20 epoch, ACC 35.01%, EER 2.90%, bestEER 2.90%\n"
     ]
    },
    {
     "name": "stderr",
     "output_type": "stream",
     "text": [
      "01-14 18:54:09 [21] Lr: 0.000544, Training: 100.00%,  Loss: 3.45798, ACC: 35.88% \r"
     ]
    },
    {
     "name": "stdout",
     "output_type": "stream",
     "text": [
      "\n"
     ]
    },
    {
     "name": "stderr",
     "output_type": "stream",
     "text": [
      "100%|██████████████████████████████████████████████████████████████████████████████| 4356/4356 [01:37<00:00, 44.72it/s]\n"
     ]
    },
    {
     "name": "stdout",
     "output_type": "stream",
     "text": [
      "2023-01-14 18:55:53 21 epoch, ACC 35.88%, EER 3.10%, bestEER 2.90%\n"
     ]
    },
    {
     "name": "stderr",
     "output_type": "stream",
     "text": [
      "01-14 20:39:37 [22] Lr: 0.000527, Training: 100.00%,  Loss: 3.38894, ACC: 36.85% \r"
     ]
    },
    {
     "name": "stdout",
     "output_type": "stream",
     "text": [
      "\n"
     ]
    },
    {
     "name": "stderr",
     "output_type": "stream",
     "text": [
      "100%|██████████████████████████████████████████████████████████████████████████████| 4356/4356 [01:40<00:00, 43.21it/s]\n"
     ]
    },
    {
     "name": "stdout",
     "output_type": "stream",
     "text": [
      "2023-01-14 20:41:27 22 epoch, ACC 36.85%, EER 2.81%, bestEER 2.81%\n"
     ]
    },
    {
     "name": "stderr",
     "output_type": "stream",
     "text": [
      "01-14 22:26:06 [23] Lr: 0.000512, Training: 100.00%,  Loss: 3.32738, ACC: 37.77% \r"
     ]
    },
    {
     "name": "stdout",
     "output_type": "stream",
     "text": [
      "\n"
     ]
    },
    {
     "name": "stderr",
     "output_type": "stream",
     "text": [
      "100%|██████████████████████████████████████████████████████████████████████████████| 4356/4356 [01:39<00:00, 43.92it/s]\n"
     ]
    },
    {
     "name": "stdout",
     "output_type": "stream",
     "text": [
      "2023-01-14 22:27:53 23 epoch, ACC 37.77%, EER 2.87%, bestEER 2.81%\n"
     ]
    },
    {
     "name": "stderr",
     "output_type": "stream",
     "text": [
      "01-15 00:13:53 [24] Lr: 0.000496, Training: 100.00%,  Loss: 3.27031, ACC: 38.59% \r"
     ]
    },
    {
     "name": "stdout",
     "output_type": "stream",
     "text": [
      "\n"
     ]
    },
    {
     "name": "stderr",
     "output_type": "stream",
     "text": [
      "100%|██████████████████████████████████████████████████████████████████████████████| 4356/4356 [01:39<00:00, 43.66it/s]\n"
     ]
    },
    {
     "name": "stdout",
     "output_type": "stream",
     "text": [
      "2023-01-15 00:15:41 24 epoch, ACC 38.59%, EER 2.68%, bestEER 2.68%\n"
     ]
    },
    {
     "name": "stderr",
     "output_type": "stream",
     "text": [
      "01-15 01:59:28 [25] Lr: 0.000481, Training: 100.00%,  Loss: 3.21661, ACC: 39.38% \r"
     ]
    },
    {
     "name": "stdout",
     "output_type": "stream",
     "text": [
      "\n"
     ]
    },
    {
     "name": "stderr",
     "output_type": "stream",
     "text": [
      "100%|██████████████████████████████████████████████████████████████████████████████| 4356/4356 [01:41<00:00, 43.12it/s]\n"
     ]
    },
    {
     "name": "stdout",
     "output_type": "stream",
     "text": [
      "2023-01-15 02:01:18 25 epoch, ACC 39.38%, EER 2.83%, bestEER 2.68%\n"
     ]
    },
    {
     "name": "stderr",
     "output_type": "stream",
     "text": [
      "01-15 02:25:38 [26] Lr: 0.000467, Training: 23.44%,  Loss: 3.12672, ACC: 40.38% \r"
     ]
    }
   ],
   "source": [
    "# Train subcenter_DAM128\n",
    "while(1):\n",
    "\t## Training for one epoch\n",
    "\tloss, lr, acc = s.train_network(epoch = epoch, loader = trainLoader)\n",
    "\n",
    "\t## Evaluation every [test_step] epochs\n",
    "\tif epoch % args.test_step == 0:\n",
    "\t\ts.save_parameters(args.model_save_path + \"/model_%04d.model\"%epoch)\n",
    "\t\tEERs.append(s.eval_network(eval_list = args.eval_list, eval_path = args.eval_path)[0])\n",
    "\t\tprint(time.strftime(\"%Y-%m-%d %H:%M:%S\"), \"%d epoch, ACC %2.2f%%, EER %2.2f%%, bestEER %2.2f%%\"%(epoch, acc, EERs[-1], min(EERs)))\n",
    "\t\tscore_file.write(\"%d epoch, LR %f, LOSS %f, ACC %2.2f%%, EER %2.2f%%, bestEER %2.2f%%\\n\"%(epoch, lr, loss, acc, EERs[-1], min(EERs)))\n",
    "\t\tscore_file.flush()\n",
    "\n",
    "\tif epoch >= args.max_epoch:\n",
    "\t\tquit()\n",
    "\n",
    "\tepoch += 1"
   ]
  },
  {
   "cell_type": "code",
   "execution_count": null,
   "id": "1aaa5a96-21c1-47ba-b675-7b74aa28d05f",
   "metadata": {},
   "outputs": [
    {
     "name": "stderr",
     "output_type": "stream",
     "text": [
      "01-15 12:32:21 [27] Lr: 0.000453, Training: 100.00%,  Loss: 4.39941, ACC: 29.30% \r"
     ]
    },
    {
     "name": "stdout",
     "output_type": "stream",
     "text": [
      "\n"
     ]
    },
    {
     "name": "stderr",
     "output_type": "stream",
     "text": [
      "100%|██████████████████████████████████████████████████████████████████████████████| 4356/4356 [01:34<00:00, 45.94it/s]\n"
     ]
    },
    {
     "name": "stdout",
     "output_type": "stream",
     "text": [
      "2023-01-15 12:34:02 1 epoch, ACC 29.30%, EER 2.55%, bestEER 2.55%\n"
     ]
    },
    {
     "name": "stderr",
     "output_type": "stream",
     "text": [
      "01-15 14:49:04 [28] Lr: 0.000439, Training: 100.00%,  Loss: 3.60608, ACC: 35.31% \r"
     ]
    },
    {
     "name": "stdout",
     "output_type": "stream",
     "text": [
      "\n"
     ]
    },
    {
     "name": "stderr",
     "output_type": "stream",
     "text": [
      "100%|██████████████████████████████████████████████████████████████████████████████| 4356/4356 [01:34<00:00, 46.24it/s]\n"
     ]
    },
    {
     "name": "stdout",
     "output_type": "stream",
     "text": [
      "2023-01-15 14:50:45 2 epoch, ACC 35.31%, EER 2.38%, bestEER 2.38%\n"
     ]
    },
    {
     "name": "stderr",
     "output_type": "stream",
     "text": [
      "01-15 17:07:45 [29] Lr: 0.000426, Training: 100.00%,  Loss: 3.45486, ACC: 37.09% \r"
     ]
    },
    {
     "name": "stdout",
     "output_type": "stream",
     "text": [
      "\n"
     ]
    },
    {
     "name": "stderr",
     "output_type": "stream",
     "text": [
      "100%|██████████████████████████████████████████████████████████████████████████████| 4356/4356 [01:33<00:00, 46.49it/s]\n"
     ]
    },
    {
     "name": "stdout",
     "output_type": "stream",
     "text": [
      "2023-01-15 17:09:26 3 epoch, ACC 37.09%, EER 2.26%, bestEER 2.26%\n"
     ]
    },
    {
     "name": "stderr",
     "output_type": "stream",
     "text": [
      "01-15 19:17:12 [30] Lr: 0.000413, Training: 100.00%,  Loss: 3.34789, ACC: 38.43% \r"
     ]
    },
    {
     "name": "stdout",
     "output_type": "stream",
     "text": [
      "\n"
     ]
    },
    {
     "name": "stderr",
     "output_type": "stream",
     "text": [
      "100%|██████████████████████████████████████████████████████████████████████████████| 4356/4356 [01:35<00:00, 45.67it/s]\n"
     ]
    },
    {
     "name": "stdout",
     "output_type": "stream",
     "text": [
      "2023-01-15 19:18:54 4 epoch, ACC 38.43%, EER 2.33%, bestEER 2.26%\n"
     ]
    },
    {
     "name": "stderr",
     "output_type": "stream",
     "text": [
      "01-15 21:09:13 [31] Lr: 0.000401, Training: 100.00%,  Loss: 3.26702, ACC: 39.49% \r"
     ]
    },
    {
     "name": "stdout",
     "output_type": "stream",
     "text": [
      "\n"
     ]
    },
    {
     "name": "stderr",
     "output_type": "stream",
     "text": [
      "100%|██████████████████████████████████████████████████████████████████████████████| 4356/4356 [01:36<00:00, 45.33it/s]\n"
     ]
    },
    {
     "name": "stdout",
     "output_type": "stream",
     "text": [
      "2023-01-15 21:10:56 5 epoch, ACC 39.49%, EER 2.43%, bestEER 2.26%\n"
     ]
    },
    {
     "name": "stderr",
     "output_type": "stream",
     "text": [
      "01-15 22:52:40 [32] Lr: 0.000389, Training: 100.00%,  Loss: 3.19975, ACC: 40.41% \r"
     ]
    },
    {
     "name": "stdout",
     "output_type": "stream",
     "text": [
      "\n"
     ]
    },
    {
     "name": "stderr",
     "output_type": "stream",
     "text": [
      "100%|██████████████████████████████████████████████████████████████████████████████| 4356/4356 [01:35<00:00, 45.58it/s]\n"
     ]
    },
    {
     "name": "stdout",
     "output_type": "stream",
     "text": [
      "2023-01-15 22:54:23 6 epoch, ACC 40.41%, EER 2.36%, bestEER 2.26%\n"
     ]
    },
    {
     "name": "stderr",
     "output_type": "stream",
     "text": [
      "01-16 00:40:23 [33] Lr: 0.000377, Training: 100.00%,  Loss: 3.13772, ACC: 41.30% \r"
     ]
    },
    {
     "name": "stdout",
     "output_type": "stream",
     "text": [
      "\n"
     ]
    },
    {
     "name": "stderr",
     "output_type": "stream",
     "text": [
      "100%|██████████████████████████████████████████████████████████████████████████████| 4356/4356 [01:35<00:00, 45.60it/s]\n"
     ]
    },
    {
     "name": "stdout",
     "output_type": "stream",
     "text": [
      "2023-01-16 00:42:05 7 epoch, ACC 41.30%, EER 2.19%, bestEER 2.19%\n"
     ]
    },
    {
     "name": "stderr",
     "output_type": "stream",
     "text": [
      "01-16 02:28:55 [34] Lr: 0.000366, Training: 100.00%,  Loss: 3.07597, ACC: 42.14% \r"
     ]
    },
    {
     "name": "stdout",
     "output_type": "stream",
     "text": [
      "\n"
     ]
    },
    {
     "name": "stderr",
     "output_type": "stream",
     "text": [
      "100%|██████████████████████████████████████████████████████████████████████████████| 4356/4356 [01:35<00:00, 45.80it/s]\n"
     ]
    },
    {
     "name": "stdout",
     "output_type": "stream",
     "text": [
      "2023-01-16 02:30:37 8 epoch, ACC 42.14%, EER 2.23%, bestEER 2.19%\n"
     ]
    },
    {
     "name": "stderr",
     "output_type": "stream",
     "text": [
      "01-16 04:14:53 [35] Lr: 0.000355, Training: 100.00%,  Loss: 3.02888, ACC: 42.84% \r"
     ]
    },
    {
     "name": "stdout",
     "output_type": "stream",
     "text": [
      "\n"
     ]
    },
    {
     "name": "stderr",
     "output_type": "stream",
     "text": [
      "100%|██████████████████████████████████████████████████████████████████████████████| 4356/4356 [01:35<00:00, 45.49it/s]\n"
     ]
    },
    {
     "name": "stdout",
     "output_type": "stream",
     "text": [
      "2023-01-16 04:16:36 9 epoch, ACC 42.84%, EER 2.15%, bestEER 2.15%\n"
     ]
    },
    {
     "name": "stderr",
     "output_type": "stream",
     "text": [
      "01-16 06:01:38 [36] Lr: 0.000344, Training: 100.00%,  Loss: 2.98537, ACC: 43.49% \r"
     ]
    },
    {
     "name": "stdout",
     "output_type": "stream",
     "text": [
      "\n"
     ]
    },
    {
     "name": "stderr",
     "output_type": "stream",
     "text": [
      "100%|██████████████████████████████████████████████████████████████████████████████| 4356/4356 [01:35<00:00, 45.57it/s]\n"
     ]
    },
    {
     "name": "stdout",
     "output_type": "stream",
     "text": [
      "2023-01-16 06:03:20 10 epoch, ACC 43.49%, EER 2.24%, bestEER 2.15%\n"
     ]
    },
    {
     "name": "stderr",
     "output_type": "stream",
     "text": [
      "01-16 07:48:47 [37] Lr: 0.000334, Training: 100.00%,  Loss: 2.94497, ACC: 44.09% \r"
     ]
    },
    {
     "name": "stdout",
     "output_type": "stream",
     "text": [
      "\n"
     ]
    },
    {
     "name": "stderr",
     "output_type": "stream",
     "text": [
      "100%|██████████████████████████████████████████████████████████████████████████████| 4356/4356 [01:35<00:00, 45.62it/s]\n"
     ]
    },
    {
     "name": "stdout",
     "output_type": "stream",
     "text": [
      "2023-01-16 07:50:29 11 epoch, ACC 44.09%, EER 2.18%, bestEER 2.15%\n"
     ]
    },
    {
     "name": "stderr",
     "output_type": "stream",
     "text": [
      "01-16 09:35:51 [38] Lr: 0.000324, Training: 100.00%,  Loss: 2.90111, ACC: 44.72% \r"
     ]
    },
    {
     "name": "stdout",
     "output_type": "stream",
     "text": [
      "\n"
     ]
    },
    {
     "name": "stderr",
     "output_type": "stream",
     "text": [
      "100%|██████████████████████████████████████████████████████████████████████████████| 4356/4356 [01:35<00:00, 45.55it/s]\n"
     ]
    },
    {
     "name": "stdout",
     "output_type": "stream",
     "text": [
      "2023-01-16 09:37:33 12 epoch, ACC 44.72%, EER 2.38%, bestEER 2.15%\n"
     ]
    },
    {
     "name": "stderr",
     "output_type": "stream",
     "text": [
      "01-16 11:20:00 [39] Lr: 0.000314, Training: 100.00%,  Loss: 2.86478, ACC: 45.26% \r"
     ]
    },
    {
     "name": "stdout",
     "output_type": "stream",
     "text": [
      "\n"
     ]
    },
    {
     "name": "stderr",
     "output_type": "stream",
     "text": [
      "100%|██████████████████████████████████████████████████████████████████████████████| 4356/4356 [01:34<00:00, 45.98it/s]\n"
     ]
    },
    {
     "name": "stdout",
     "output_type": "stream",
     "text": [
      "2023-01-16 11:21:42 13 epoch, ACC 45.26%, EER 2.08%, bestEER 2.08%\n"
     ]
    },
    {
     "name": "stderr",
     "output_type": "stream",
     "text": [
      "01-16 13:06:30 [40] Lr: 0.000305, Training: 100.00%,  Loss: 2.82925, ACC: 45.80% \r"
     ]
    },
    {
     "name": "stdout",
     "output_type": "stream",
     "text": [
      "\n"
     ]
    },
    {
     "name": "stderr",
     "output_type": "stream",
     "text": [
      "100%|██████████████████████████████████████████████████████████████████████████████| 4356/4356 [01:34<00:00, 46.18it/s]\n"
     ]
    },
    {
     "name": "stdout",
     "output_type": "stream",
     "text": [
      "2023-01-16 13:08:11 14 epoch, ACC 45.80%, EER 2.04%, bestEER 2.04%\n"
     ]
    },
    {
     "name": "stderr",
     "output_type": "stream",
     "text": [
      "01-16 14:51:26 [41] Lr: 0.000296, Training: 100.00%,  Loss: 2.79316, ACC: 46.37% \r"
     ]
    },
    {
     "name": "stdout",
     "output_type": "stream",
     "text": [
      "\n"
     ]
    },
    {
     "name": "stderr",
     "output_type": "stream",
     "text": [
      "100%|██████████████████████████████████████████████████████████████████████████████| 4356/4356 [01:34<00:00, 46.01it/s]\n"
     ]
    },
    {
     "name": "stdout",
     "output_type": "stream",
     "text": [
      "2023-01-16 14:53:07 15 epoch, ACC 46.37%, EER 2.06%, bestEER 2.04%\n"
     ]
    },
    {
     "name": "stderr",
     "output_type": "stream",
     "text": [
      "01-16 16:39:25 [42] Lr: 0.000287, Training: 100.00%,  Loss: 2.76241, ACC: 46.85% \r"
     ]
    },
    {
     "name": "stdout",
     "output_type": "stream",
     "text": [
      "\n"
     ]
    },
    {
     "name": "stderr",
     "output_type": "stream",
     "text": [
      "100%|██████████████████████████████████████████████████████████████████████████████| 4356/4356 [01:35<00:00, 45.57it/s]\n"
     ]
    },
    {
     "name": "stdout",
     "output_type": "stream",
     "text": [
      "2023-01-16 16:41:07 16 epoch, ACC 46.85%, EER 1.94%, bestEER 1.94%\n"
     ]
    },
    {
     "name": "stderr",
     "output_type": "stream",
     "text": [
      "01-16 18:32:31 [43] Lr: 0.000278, Training: 100.00%,  Loss: 2.73358, ACC: 47.29% \r"
     ]
    },
    {
     "name": "stdout",
     "output_type": "stream",
     "text": [
      "\n"
     ]
    },
    {
     "name": "stderr",
     "output_type": "stream",
     "text": [
      "100%|██████████████████████████████████████████████████████████████████████████████| 4356/4356 [01:35<00:00, 45.54it/s]\n"
     ]
    },
    {
     "name": "stdout",
     "output_type": "stream",
     "text": [
      "2023-01-16 18:34:14 17 epoch, ACC 47.29%, EER 2.04%, bestEER 1.94%\n"
     ]
    },
    {
     "name": "stderr",
     "output_type": "stream",
     "text": [
      "01-16 20:18:16 [44] Lr: 0.000270, Training: 100.00%,  Loss: 2.70085, ACC: 47.82% \r"
     ]
    },
    {
     "name": "stdout",
     "output_type": "stream",
     "text": [
      "\n"
     ]
    },
    {
     "name": "stderr",
     "output_type": "stream",
     "text": [
      "100%|██████████████████████████████████████████████████████████████████████████████| 4356/4356 [01:36<00:00, 44.99it/s]\n"
     ]
    },
    {
     "name": "stdout",
     "output_type": "stream",
     "text": [
      "2023-01-16 20:20:00 18 epoch, ACC 47.82%, EER 2.06%, bestEER 1.94%\n"
     ]
    },
    {
     "name": "stderr",
     "output_type": "stream",
     "text": [
      "01-16 22:01:51 [45] Lr: 0.000262, Training: 100.00%,  Loss: 2.67316, ACC: 48.30% \r"
     ]
    },
    {
     "name": "stdout",
     "output_type": "stream",
     "text": [
      "\n"
     ]
    },
    {
     "name": "stderr",
     "output_type": "stream",
     "text": [
      "100%|██████████████████████████████████████████████████████████████████████████████| 4356/4356 [01:37<00:00, 44.61it/s]\n"
     ]
    },
    {
     "name": "stdout",
     "output_type": "stream",
     "text": [
      "2023-01-16 22:03:36 19 epoch, ACC 48.30%, EER 1.94%, bestEER 1.94%\n"
     ]
    },
    {
     "name": "stderr",
     "output_type": "stream",
     "text": [
      "01-16 22:50:30 [46] Lr: 0.000254, Training: 45.16%,  Loss: 2.62373, ACC: 48.97% \r"
     ]
    }
   ],
   "source": [
    "# Train subcenter_DAM128\n",
    "while(1):\n",
    "\t## Training for one epoch\n",
    "\tloss, lr, acc = s.train_network(epoch = epoch+26, loader = trainLoader)\n",
    "\n",
    "\t## Evaluation every [test_step] epochs\n",
    "\tif epoch % args.test_step == 0:\n",
    "\t\ts.save_parameters(args.model_save_path + \"/model_%04d.model\"%epoch)\n",
    "\t\tEERs.append(s.eval_network(eval_list = args.eval_list, eval_path = args.eval_path)[0])\n",
    "\t\tprint(time.strftime(\"%Y-%m-%d %H:%M:%S\"), \"%d epoch, ACC %2.2f%%, EER %2.2f%%, bestEER %2.2f%%\"%(epoch, acc, EERs[-1], min(EERs)))\n",
    "\t\tscore_file.write(\"%d epoch, LR %f, LOSS %f, ACC %2.2f%%, EER %2.2f%%, bestEER %2.2f%%\\n\"%(epoch, lr, loss, acc, EERs[-1], min(EERs)))\n",
    "\t\tscore_file.flush()\n",
    "\n",
    "\tif epoch >= args.max_epoch:\n",
    "\t\tquit()\n",
    "\n",
    "\tepoch += 1"
   ]
  },
  {
   "cell_type": "code",
   "execution_count": 5,
   "id": "9ddec510-174e-49cc-8c02-c54869a15bec",
   "metadata": {},
   "outputs": [],
   "source": [
    "a = torch.randn((17, 5994, 192))"
   ]
  },
  {
   "cell_type": "code",
   "execution_count": 6,
   "id": "2968bb57-12c7-4aca-afdd-6a4db23bbcc8",
   "metadata": {},
   "outputs": [
    {
     "data": {
      "text/plain": [
       "torch.Size([17, 5994, 192])"
      ]
     },
     "execution_count": 6,
     "metadata": {},
     "output_type": "execute_result"
    }
   ],
   "source": [
    "a.shape"
   ]
  },
  {
   "cell_type": "code",
   "execution_count": 7,
   "id": "e8cb0fb8-9cb1-4ecb-b5c7-a673b1015f35",
   "metadata": {},
   "outputs": [
    {
     "data": {
      "text/plain": [
       "torch.Size([17, 192, 5994])"
      ]
     },
     "execution_count": 7,
     "metadata": {},
     "output_type": "execute_result"
    }
   ],
   "source": [
    "a.mT.shape"
   ]
  },
  {
   "cell_type": "code",
   "execution_count": null,
   "id": "fe658ffb-d1b1-4813-ac2e-3cccb1d5f696",
   "metadata": {},
   "outputs": [],
   "source": []
  }
 ],
 "metadata": {
  "kernelspec": {
   "display_name": "Python 3 (ipykernel)",
   "language": "python",
   "name": "python3"
  },
  "language_info": {
   "codemirror_mode": {
    "name": "ipython",
    "version": 3
   },
   "file_extension": ".py",
   "mimetype": "text/x-python",
   "name": "python",
   "nbconvert_exporter": "python",
   "pygments_lexer": "ipython3",
   "version": "3.9.13"
  }
 },
 "nbformat": 4,
 "nbformat_minor": 5
}
